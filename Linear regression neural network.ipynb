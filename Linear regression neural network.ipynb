{
 "cells": [
  {
   "cell_type": "markdown",
   "metadata": {},
   "source": [
    "# Linear Regression \n",
    "based neural network using keras and tensorflow"
   ]
  },
  {
   "cell_type": "code",
   "execution_count": 1,
   "metadata": {},
   "outputs": [],
   "source": [
    "import pandas as pd\n",
    "import numpy as np \n",
    "import matplotlib.pyplot as plt\n",
    "import seaborn as sns\n",
    "%matplotlib inline"
   ]
  },
  {
   "cell_type": "code",
   "execution_count": 2,
   "metadata": {},
   "outputs": [],
   "source": [
    "sns.set_style('whitegrid')"
   ]
  },
  {
   "cell_type": "code",
   "execution_count": 3,
   "metadata": {},
   "outputs": [
    {
     "name": "stdout",
     "output_type": "stream",
     "text": [
      "<class 'pandas.core.frame.DataFrame'>\n",
      "RangeIndex: 500 entries, 0 to 499\n",
      "Data columns (total 8 columns):\n",
      "Email                   500 non-null object\n",
      "Address                 500 non-null object\n",
      "Avatar                  500 non-null object\n",
      "Avg. Session Length     500 non-null float64\n",
      "Time on App             500 non-null float64\n",
      "Time on Website         500 non-null float64\n",
      "Length of Membership    500 non-null float64\n",
      "Yearly Amount Spent     500 non-null float64\n",
      "dtypes: float64(5), object(3)\n",
      "memory usage: 31.4+ KB\n"
     ]
    }
   ],
   "source": [
    "df = pd.read_csv('Ecommerce Customers')\n",
    "df.info()"
   ]
  },
  {
   "cell_type": "code",
   "execution_count": 4,
   "metadata": {},
   "outputs": [
    {
     "data": {
      "text/html": [
       "<div>\n",
       "<style scoped>\n",
       "    .dataframe tbody tr th:only-of-type {\n",
       "        vertical-align: middle;\n",
       "    }\n",
       "\n",
       "    .dataframe tbody tr th {\n",
       "        vertical-align: top;\n",
       "    }\n",
       "\n",
       "    .dataframe thead th {\n",
       "        text-align: right;\n",
       "    }\n",
       "</style>\n",
       "<table border=\"1\" class=\"dataframe\">\n",
       "  <thead>\n",
       "    <tr style=\"text-align: right;\">\n",
       "      <th></th>\n",
       "      <th>Avg. Session Length</th>\n",
       "      <th>Time on App</th>\n",
       "      <th>Time on Website</th>\n",
       "      <th>Length of Membership</th>\n",
       "      <th>Yearly Amount Spent</th>\n",
       "    </tr>\n",
       "  </thead>\n",
       "  <tbody>\n",
       "    <tr>\n",
       "      <td>count</td>\n",
       "      <td>500.000000</td>\n",
       "      <td>500.000000</td>\n",
       "      <td>500.000000</td>\n",
       "      <td>500.000000</td>\n",
       "      <td>500.000000</td>\n",
       "    </tr>\n",
       "    <tr>\n",
       "      <td>mean</td>\n",
       "      <td>33.053194</td>\n",
       "      <td>12.052488</td>\n",
       "      <td>37.060445</td>\n",
       "      <td>3.533462</td>\n",
       "      <td>499.314038</td>\n",
       "    </tr>\n",
       "    <tr>\n",
       "      <td>std</td>\n",
       "      <td>0.992563</td>\n",
       "      <td>0.994216</td>\n",
       "      <td>1.010489</td>\n",
       "      <td>0.999278</td>\n",
       "      <td>79.314782</td>\n",
       "    </tr>\n",
       "    <tr>\n",
       "      <td>min</td>\n",
       "      <td>29.532429</td>\n",
       "      <td>8.508152</td>\n",
       "      <td>33.913847</td>\n",
       "      <td>0.269901</td>\n",
       "      <td>256.670582</td>\n",
       "    </tr>\n",
       "    <tr>\n",
       "      <td>25%</td>\n",
       "      <td>32.341822</td>\n",
       "      <td>11.388153</td>\n",
       "      <td>36.349257</td>\n",
       "      <td>2.930450</td>\n",
       "      <td>445.038277</td>\n",
       "    </tr>\n",
       "    <tr>\n",
       "      <td>50%</td>\n",
       "      <td>33.082008</td>\n",
       "      <td>11.983231</td>\n",
       "      <td>37.069367</td>\n",
       "      <td>3.533975</td>\n",
       "      <td>498.887875</td>\n",
       "    </tr>\n",
       "    <tr>\n",
       "      <td>75%</td>\n",
       "      <td>33.711985</td>\n",
       "      <td>12.753850</td>\n",
       "      <td>37.716432</td>\n",
       "      <td>4.126502</td>\n",
       "      <td>549.313828</td>\n",
       "    </tr>\n",
       "    <tr>\n",
       "      <td>max</td>\n",
       "      <td>36.139662</td>\n",
       "      <td>15.126994</td>\n",
       "      <td>40.005182</td>\n",
       "      <td>6.922689</td>\n",
       "      <td>765.518462</td>\n",
       "    </tr>\n",
       "  </tbody>\n",
       "</table>\n",
       "</div>"
      ],
      "text/plain": [
       "       Avg. Session Length  Time on App  Time on Website  \\\n",
       "count           500.000000   500.000000       500.000000   \n",
       "mean             33.053194    12.052488        37.060445   \n",
       "std               0.992563     0.994216         1.010489   \n",
       "min              29.532429     8.508152        33.913847   \n",
       "25%              32.341822    11.388153        36.349257   \n",
       "50%              33.082008    11.983231        37.069367   \n",
       "75%              33.711985    12.753850        37.716432   \n",
       "max              36.139662    15.126994        40.005182   \n",
       "\n",
       "       Length of Membership  Yearly Amount Spent  \n",
       "count            500.000000           500.000000  \n",
       "mean               3.533462           499.314038  \n",
       "std                0.999278            79.314782  \n",
       "min                0.269901           256.670582  \n",
       "25%                2.930450           445.038277  \n",
       "50%                3.533975           498.887875  \n",
       "75%                4.126502           549.313828  \n",
       "max                6.922689           765.518462  "
      ]
     },
     "execution_count": 4,
     "metadata": {},
     "output_type": "execute_result"
    }
   ],
   "source": [
    "df.describe()"
   ]
  },
  {
   "cell_type": "code",
   "execution_count": 5,
   "metadata": {},
   "outputs": [
    {
     "data": {
      "text/html": [
       "<div>\n",
       "<style scoped>\n",
       "    .dataframe tbody tr th:only-of-type {\n",
       "        vertical-align: middle;\n",
       "    }\n",
       "\n",
       "    .dataframe tbody tr th {\n",
       "        vertical-align: top;\n",
       "    }\n",
       "\n",
       "    .dataframe thead th {\n",
       "        text-align: right;\n",
       "    }\n",
       "</style>\n",
       "<table border=\"1\" class=\"dataframe\">\n",
       "  <thead>\n",
       "    <tr style=\"text-align: right;\">\n",
       "      <th></th>\n",
       "      <th>Email</th>\n",
       "      <th>Address</th>\n",
       "      <th>Avatar</th>\n",
       "      <th>Avg. Session Length</th>\n",
       "      <th>Time on App</th>\n",
       "      <th>Time on Website</th>\n",
       "      <th>Length of Membership</th>\n",
       "      <th>Yearly Amount Spent</th>\n",
       "    </tr>\n",
       "  </thead>\n",
       "  <tbody>\n",
       "    <tr>\n",
       "      <td>0</td>\n",
       "      <td>mstephenson@fernandez.com</td>\n",
       "      <td>835 Frank Tunnel\\nWrightmouth, MI 82180-9605</td>\n",
       "      <td>Violet</td>\n",
       "      <td>34.497268</td>\n",
       "      <td>12.655651</td>\n",
       "      <td>39.577668</td>\n",
       "      <td>4.082621</td>\n",
       "      <td>587.951054</td>\n",
       "    </tr>\n",
       "    <tr>\n",
       "      <td>1</td>\n",
       "      <td>hduke@hotmail.com</td>\n",
       "      <td>4547 Archer Common\\nDiazchester, CA 06566-8576</td>\n",
       "      <td>DarkGreen</td>\n",
       "      <td>31.926272</td>\n",
       "      <td>11.109461</td>\n",
       "      <td>37.268959</td>\n",
       "      <td>2.664034</td>\n",
       "      <td>392.204933</td>\n",
       "    </tr>\n",
       "    <tr>\n",
       "      <td>2</td>\n",
       "      <td>pallen@yahoo.com</td>\n",
       "      <td>24645 Valerie Unions Suite 582\\nCobbborough, D...</td>\n",
       "      <td>Bisque</td>\n",
       "      <td>33.000915</td>\n",
       "      <td>11.330278</td>\n",
       "      <td>37.110597</td>\n",
       "      <td>4.104543</td>\n",
       "      <td>487.547505</td>\n",
       "    </tr>\n",
       "    <tr>\n",
       "      <td>3</td>\n",
       "      <td>riverarebecca@gmail.com</td>\n",
       "      <td>1414 David Throughway\\nPort Jason, OH 22070-1220</td>\n",
       "      <td>SaddleBrown</td>\n",
       "      <td>34.305557</td>\n",
       "      <td>13.717514</td>\n",
       "      <td>36.721283</td>\n",
       "      <td>3.120179</td>\n",
       "      <td>581.852344</td>\n",
       "    </tr>\n",
       "    <tr>\n",
       "      <td>4</td>\n",
       "      <td>mstephens@davidson-herman.com</td>\n",
       "      <td>14023 Rodriguez Passage\\nPort Jacobville, PR 3...</td>\n",
       "      <td>MediumAquaMarine</td>\n",
       "      <td>33.330673</td>\n",
       "      <td>12.795189</td>\n",
       "      <td>37.536653</td>\n",
       "      <td>4.446308</td>\n",
       "      <td>599.406092</td>\n",
       "    </tr>\n",
       "  </tbody>\n",
       "</table>\n",
       "</div>"
      ],
      "text/plain": [
       "                           Email  \\\n",
       "0      mstephenson@fernandez.com   \n",
       "1              hduke@hotmail.com   \n",
       "2               pallen@yahoo.com   \n",
       "3        riverarebecca@gmail.com   \n",
       "4  mstephens@davidson-herman.com   \n",
       "\n",
       "                                             Address            Avatar  \\\n",
       "0       835 Frank Tunnel\\nWrightmouth, MI 82180-9605            Violet   \n",
       "1     4547 Archer Common\\nDiazchester, CA 06566-8576         DarkGreen   \n",
       "2  24645 Valerie Unions Suite 582\\nCobbborough, D...            Bisque   \n",
       "3   1414 David Throughway\\nPort Jason, OH 22070-1220       SaddleBrown   \n",
       "4  14023 Rodriguez Passage\\nPort Jacobville, PR 3...  MediumAquaMarine   \n",
       "\n",
       "   Avg. Session Length  Time on App  Time on Website  Length of Membership  \\\n",
       "0            34.497268    12.655651        39.577668              4.082621   \n",
       "1            31.926272    11.109461        37.268959              2.664034   \n",
       "2            33.000915    11.330278        37.110597              4.104543   \n",
       "3            34.305557    13.717514        36.721283              3.120179   \n",
       "4            33.330673    12.795189        37.536653              4.446308   \n",
       "\n",
       "   Yearly Amount Spent  \n",
       "0           587.951054  \n",
       "1           392.204933  \n",
       "2           487.547505  \n",
       "3           581.852344  \n",
       "4           599.406092  "
      ]
     },
     "execution_count": 5,
     "metadata": {},
     "output_type": "execute_result"
    }
   ],
   "source": [
    "df.head()"
   ]
  },
  {
   "cell_type": "code",
   "execution_count": 6,
   "metadata": {},
   "outputs": [
    {
     "data": {
      "text/plain": [
       "Index(['Email', 'Address', 'Avatar', 'Avg. Session Length', 'Time on App',\n",
       "       'Time on Website', 'Length of Membership', 'Yearly Amount Spent'],\n",
       "      dtype='object')"
      ]
     },
     "execution_count": 6,
     "metadata": {},
     "output_type": "execute_result"
    }
   ],
   "source": [
    "df.columns"
   ]
  },
  {
   "cell_type": "code",
   "execution_count": 7,
   "metadata": {},
   "outputs": [
    {
     "data": {
      "text/plain": [
       "<seaborn.axisgrid.JointGrid at 0xfd8c74d188>"
      ]
     },
     "execution_count": 7,
     "metadata": {},
     "output_type": "execute_result"
    },
    {
     "data": {
      "image/png": "[encoded data removed]",
      "text/plain": [
       "<Figure size 432x432 with 3 Axes>"
      ]
     },
     "metadata": {},
     "output_type": "display_data"
    }
   ],
   "source": [
    "sns.jointplot(x='Time on Website',y='Yearly Amount Spent',data=df,color='grey',marker='.')"
   ]
  },
  {
   "cell_type": "code",
   "execution_count": 8,
   "metadata": {},
   "outputs": [
    {
     "data": {
      "text/plain": [
       "<seaborn.axisgrid.JointGrid at 0xfd921f4348>"
      ]
     },
     "execution_count": 8,
     "metadata": {},
     "output_type": "execute_result"
    },
    {
     "data": {
      "image/png": "[encoded data removed]",
      "text/plain": [
       "<Figure size 432x432 with 3 Axes>"
      ]
     },
     "metadata": {},
     "output_type": "display_data"
    }
   ],
   "source": [
    "sns.jointplot(x='Time on App',y='Yearly Amount Spent',data=df,color='indigo',marker='.')"
   ]
  },
  {
   "cell_type": "code",
   "execution_count": 9,
   "metadata": {},
   "outputs": [
    {
     "data": {
      "text/plain": [
       "<seaborn.axisgrid.PairGrid at 0xfd9238ff88>"
      ]
     },
     "execution_count": 9,
     "metadata": {},
     "output_type": "execute_result"
    },
    {
     "data": {
      "image/png": "[encoded data removed]",
      "text/plain": [
       "<Figure size 900x900 with 30 Axes>"
      ]
     },
     "metadata": {},
     "output_type": "display_data"
    }
   ],
   "source": [
    "sns.pairplot(df)"
   ]
  },
  {
   "cell_type": "code",
   "execution_count": 10,
   "metadata": {},
   "outputs": [
    {
     "data": {
      "text/plain": [
       "138"
      ]
     },
     "execution_count": 10,
     "metadata": {},
     "output_type": "execute_result"
    }
   ],
   "source": [
    "len(df['Avatar'].unique())"
   ]
  },
  {
   "cell_type": "markdown",
   "metadata": {},
   "source": [
    "SInce more number of avatars so classification on that is scosidered exhaustive"
   ]
  },
  {
   "cell_type": "code",
   "execution_count": 11,
   "metadata": {},
   "outputs": [
    {
     "data": {
      "text/plain": [
       "<seaborn.axisgrid.FacetGrid at 0xfd9309f048>"
      ]
     },
     "execution_count": 11,
     "metadata": {},
     "output_type": "execute_result"
    },
    {
     "data": {
      "image/png": "[encoded data removed]",
      "text/plain": [
       "<Figure size 360x360 with 1 Axes>"
      ]
     },
     "metadata": {},
     "output_type": "display_data"
    }
   ],
   "source": [
    "sns.lmplot(x='Length of Membership',y='Yearly Amount Spent',data=df)"
   ]
  },
  {
   "cell_type": "code",
   "execution_count": 12,
   "metadata": {},
   "outputs": [
    {
     "data": {
      "text/html": [
       "        <script type=\"text/javascript\">\n",
       "        window.PlotlyConfig = {MathJaxConfig: 'local'};\n",
       "        if (window.MathJax) {MathJax.Hub.Config({SVG: {font: \"STIX-Web\"}});}\n",
       "        if (typeof require !== 'undefined') {\n",
       "        require.undef(\"plotly\");\n",
       "        requirejs.config({\n",
       "            paths: {\n",
       "                'plotly': ['https://cdn.plot.ly/plotly-latest.min']\n",
       "            }\n",
       "        });\n",
       "        require(['plotly'], function(Plotly) {\n",
       "            window._Plotly = Plotly;\n",
       "        });\n",
       "        }\n",
       "        </script>\n",
       "        "
      ]
     },
     "metadata": {},
     "output_type": "display_data"
    }
   ],
   "source": [
    "import cufflinks as cf\n",
    "cf.go_offline()"
   ]
  },
  {
   "cell_type": "code",
   "execution_count": 13,
   "metadata": {},
   "outputs": [
    {
     "data": {
      "application/vnd.plotly.v1+json": {
       "config": {
        "linkText": "Export to plot.ly",
        "plotlyServerURL": "https://plot.ly",
        "showLink": true
       },
       "data": [
        {
         "line": {
          "color": "rgba(255, 153, 51, 1.0)",
          "dash": "solid",
          "shape": "linear",
          "width": 1.3
         },
         "marker": {
          "size": 12,
          "symbol": "circle"
         },
         "mode": "markers",
         "name": "Yearly Amount Spent",
         "text": "",
         "type": "scatter",
         "x": [
          4.0826206329529615,
          2.66403418213262,
          4.104543202376424,
          3.120178782748092,
          4.446308318351434,
          5.493507201364199,
          4.685017246570912,
          4.4342734348999375,
          3.2734335777477144,
          3.202806071553459,
          2.482607770510596,
          3.71320920294043,
          4.046423164299585,
          3.918541839158999,
          2.494543646659249,
          3.3578468423262944,
          3.1361327164897803,
          2.420806160901484,
          1.516575580831944,
          4.064548550437977,
          4.599937357614995,
          1.559151939957077,
          2.2451477874052825,
          3.919302308553184,
          5.7051539706010255,
          2.7217359920452187,
          4.6481993164286015,
          2.9963645262685388,
          3.923488745527437,
          4.742577519573316,
          3.0623681453116887,
          3.471413452477678,
          4.343062915388998,
          2.8200972339734696,
          4.1245852967146535,
          3.6492861577147018,
          1.8473704233395083,
          3.4523885826307272,
          4.650491269094463,
          4.22243622534277,
          4.6712754609062515,
          4.646119976606155,
          4.214495086037866,
          4.643258549800133,
          2.2586863869468434,
          3.6631054912838534,
          3.8768751769237673,
          4.113226122724209,
          3.2025311992107337,
          3.1983992716849063,
          5.97676812602,
          2.952668957921736,
          2.0948917061051766,
          3.8554716845641805,
          2.874596910303952,
          3.3920504890738385,
          2.995761182613056,
          3.3152247539154036,
          3.4719191365417483,
          3.9705556280753487,
          4.639320331857263,
          5.0812100924911086,
          4.802630630523376,
          3.414688422504897,
          3.462298847460372,
          5.377593583586979,
          4.0017863457980845,
          3.4395905595500764,
          2.7795207192736093,
          3.5526497674265176,
          2.6022871120328714,
          4.694322274442824,
          3.4015223445155094,
          3.8515788003584657,
          3.2581128828882795,
          3.1205689148169737,
          2.8379431640697987,
          4.4702825841200236,
          4.4420543290111665,
          3.1649439952851135,
          3.7517345520890513,
          3.159754443950926,
          4.130562809236324,
          1.9140899242311,
          4.3966519010970835,
          5.1133194748706225,
          2.669941624279581,
          3.3664637433729325,
          4.571213023779052,
          3.917451119136939,
          2.4761390505964114,
          4.125584363255396,
          3.9972553776226674,
          1.3626740800013843,
          4.193324635532072,
          3.871003400176416,
          4.081802694781509,
          4.252006105620936,
          3.911708668370663,
          3.021671821710012,
          3.1846186616208865,
          2.877224878259828,
          2.5869679851624765,
          2.9696402266327597,
          3.4288599039280125,
          2.926940235492512,
          3.781823039343296,
          3.004742535925674,
          3.854473855602962,
          3.3188222789308934,
          3.361814624383144,
          3.722561172893833,
          3.5435470501829984,
          2.7894615163747076,
          5.4859767341605234,
          2.59418972057778,
          2.7534241687581194,
          5.004820577490747,
          3.8733375687432523,
          3.79872531905254,
          3.2927976625756474,
          4.716104987209577,
          4.018726609737513,
          3.637701279515837,
          3.8341696666325986,
          4.531986606666632,
          4.106055151602658,
          3.2182653850978555,
          3.283663455404016,
          2.924020724598205,
          3.90525030898213,
          4.920318406118319,
          2.473596120847858,
          4.131276648377654,
          1.7677307075942403,
          2.72410820200549,
          3.897115859957253,
          2.491671541288354,
          3.8634254422050343,
          3.5786339003939878,
          3.9588922643660966,
          3.251741770306888,
          3.914384667246393,
          1.4435150746515455,
          2.910037916541069,
          3.3455709758422434,
          3.0895277822700096,
          4.514122441132637,
          1.8258846690261428,
          3.993656512525085,
          2.6521583048512407,
          6.401228837806772,
          5.391275125020631,
          6.076653638440144,
          3.8648607392342784,
          2.941410754428091,
          5.084861308602488,
          6.922689335035808,
          3.6043985602569495,
          3.7849321101304056,
          3.3091823280429797,
          0.9686221157417688,
          3.7685619627098967,
          3.5851606351613436,
          4.5203533774965585,
          3.6758488000184415,
          2.873007508505152,
          4.055775961742958,
          3.015175298743708,
          4.717102512825834,
          2.926396448726688,
          2.361086946869883,
          4.9687426737281415,
          0.8015157200042076,
          3.669225611315444,
          1.7157771665531147,
          4.773503047345896,
          4.087837272921703,
          4.131755039569861,
          3.4427992020016864,
          4.724027439824315,
          3.2309738432875563,
          2.9722713820798212,
          3.1823297317868184,
          4.8063496187852826,
          3.6203649883552,
          3.261324744787093,
          3.597459968849926,
          4.789201624179895,
          3.3164647447029107,
          4.632460945972205,
          3.3084430006746035,
          4.015986640445782,
          4.369366793790984,
          2.56663984381683,
          3.5190324339539223,
          1.503854421225295,
          5.039955263662929,
          4.47871260846301,
          3.361612984538193,
          1.9207154781756468,
          4.3307144618605635,
          3.811248170807232,
          3.0887639575315755,
          4.541695256706066,
          5.066696864020984,
          3.1074686827074625,
          4.7469897029351396,
          3.091826869545788,
          3.1956257763719886,
          3.8502796390964265,
          3.974522480483529,
          3.843848921495288,
          2.9090084604850786,
          1.1390935384245742,
          2.6852848361090778,
          3.1089114491812744,
          4.852842407156434,
          2.30755242118396,
          4.83552866742221,
          3.6785893989539975,
          5.254708925941115,
          3.8928914802112553,
          4.3894552264165165,
          4.003325039023282,
          0.7895199078816915,
          4.403369830866465,
          2.648596770203317,
          2.3678482243852215,
          3.0507129732180167,
          3.641497161540088,
          3.397363092819078,
          4.297686524285517,
          3.8033649990651752,
          2.6334199887174443,
          3.634093727357596,
          3.467014066009709,
          1.4943108951995074,
          2.267251114447051,
          5.023934200606659,
          2.471750669720034,
          4.2977374819712075,
          2.4369588757864635,
          3.656983926688144,
          5.000243360514445,
          2.4128309609709255,
          5.314354141170212,
          4.0777750980104255,
          3.2750706813095327,
          3.634996006306897,
          3.9824715131070567,
          3.2877018240744085,
          2.3133498845806395,
          3.557813698186695,
          3.350279287544909,
          2.9070949348220267,
          3.7927119551515887,
          4.029453828152191,
          4.9784757934702615,
          2.6995620549722683,
          3.9306153266132897,
          3.456233823526301,
          2.1820169698233887,
          2.7095266269292764,
          4.594116864603191,
          4.25698328967803,
          3.784273087078304,
          1.62341960945622,
          3.4145062403052493,
          3.6060868889081727,
          3.275733705185027,
          5.007271986589903,
          3.37125811322392,
          5.453969474611709,
          3.7558693892629655,
          4.664258497238649,
          3.8066709485629935,
          5.049927474652407,
          2.871947536151015,
          3.2367328142505314,
          3.086337272317325,
          4.559699083258959,
          3.0102097779609496,
          1.8092295917763102,
          3.594295099901167,
          3.0491957437894315,
          3.6343402240734415,
          1.4823596439649784,
          2.921350140816143,
          1.8100798764120296,
          3.3731046739911137,
          2.2147975193939367,
          5.454463277564527,
          3.2018017221749915,
          4.729484541572504,
          3.205529764506833,
          3.802511438790271,
          4.116340467131812,
          5.462500764129898,
          1.4816166268553612,
          3.771420131891554,
          2.898299577888636,
          3.5690465158585187,
          1.0845853030221226,
          3.0234744460455456,
          5.56638489205681,
          2.3951681299791368,
          3.5048334855202996,
          5.226687712532106,
          1.8382107022501144,
          3.363411393785737,
          2.957448756503683,
          2.0838141920346707,
          3.680847338174777,
          4.693732057983858,
          4.008352234634593,
          2.5320440615078934,
          2.8709869096996963,
          3.515688256202335,
          4.069916618589859,
          1.2004838567566694,
          3.22945090446699,
          4.086566338485993,
          4.019470351595002,
          4.205903889533483,
          2.0181946292873114,
          4.2438128167261855,
          4.626075291951958,
          3.0029570228338396,
          1.823595182991803,
          4.078308001651641,
          3.689916615447592,
          2.1901321853800533,
          3.2067566975868704,
          1.9770071278430592,
          3.3492453825271813,
          3.5328615795564753,
          2.9747368150832405,
          2.6181653103960847,
          2.8040136926903942,
          2.9644978762354017,
          4.3508878437244665,
          3.8724320418689104,
          4.615426306527649,
          2.727209453758874,
          3.537123879902206,
          3.1265094896599996,
          5.137816745950984,
          3.1286388557446334,
          3.1789524050534483,
          3.827375915107567,
          4.808320372869162,
          4.048510087289211,
          4.5433324132930855,
          3.4810621331251683,
          2.627624971434411,
          4.794312263402833,
          2.7618619263014166,
          2.1596760229888288,
          4.1956144126751305,
          2.139403004485981,
          3.4345597225409197,
          2.8684281816397523,
          3.137068975480682,
          3.5258064121952244,
          5.038107493844868,
          3.6122391519937,
          2.895075162804356,
          5.705940716620837,
          5.0470225513951,
          4.778973636034999,
          2.9665588846599196,
          2.6689197733345025,
          3.620354588804087,
          4.238296188412728,
          2.4793398232086954,
          3.506967573635258,
          3.3101503465768563,
          3.535802467873828,
          1.1304769604319769,
          3.2287176862706497,
          3.3459223210048927,
          3.2156668270219866,
          3.7905521368804433,
          3.5612152714310823,
          2.9316195346511518,
          3.0465406206892376,
          2.739200466766662,
          2.783963128204522,
          4.330407444211276,
          3.41620997759013,
          3.3363393820041853,
          4.6628453040025635,
          3.2220807667609574,
          3.772969024644708,
          3.4201495301648563,
          6.115198945760052,
          3.4880299912225916,
          4.082855278762214,
          2.8296995751470893,
          5.405406467229509,
          3.4517507098331026,
          2.9355772737404866,
          4.75036007144446,
          3.5314023030588984,
          3.904479379627935,
          2.3990797897904117,
          2.8477090264744978,
          3.7817035651048387,
          4.34977841863416,
          4.574287716419565,
          4.620416384895068,
          3.0130325004194374,
          4.791108744558266,
          4.334001444341368,
          1.4288238768282668,
          4.137000388171066,
          2.910530822492482,
          3.982462318955639,
          3.7012292170202734,
          5.8405058759314255,
          4.560396067343642,
          4.4900020655598345,
          3.8598179988740084,
          3.0466201888222324,
          4.652854446136778,
          4.0221029095289484,
          3.9694177591077393,
          3.7382251733253336,
          3.37668749953603,
          4.595522708601322,
          2.2239934582520533,
          4.288486770885737,
          2.11738254152726,
          0.9364975973183264,
          3.7620704427115657,
          4.00096358646012,
          3.5325171645393527,
          3.5350884276189447,
          4.158214652664192,
          3.549036057426973,
          4.129254688094536,
          2.2524459633808416,
          4.051382465375181,
          3.0720761414868827,
          4.331863026751083,
          3.937862643180167,
          0.2699010899842742,
          3.2794662600656097,
          2.5717778354776577,
          3.8260306175375134,
          2.402453833414224,
          4.02781384191709,
          3.6293399152681918,
          3.189609941879746,
          3.393975043434297,
          2.5749484700250718,
          3.4720213800343784,
          4.198349060814376,
          2.086348146609663,
          3.605933917733071,
          4.034386130357467,
          2.320550249888456,
          3.4910933370091515,
          5.320093863780987,
          3.130538462464844,
          4.985204970864012,
          1.726962043188511,
          3.7016222869142337,
          1.7851739448879638,
          3.0226757598626595,
          4.041244969129275,
          3.13952693504287,
          2.5628188108032326,
          2.3790764968915394,
          4.301996499354755,
          2.0947616690074846,
          4.089330841235956,
          3.5160510174718302,
          1.8208106181524435,
          4.183143661726128,
          3.393902788069372,
          4.4263640805293125,
          2.9052383614465733,
          2.7827578284994163,
          3.4470177927906893,
          4.712233578509767,
          1.2281124234144234,
          4.019051426800218,
          1.7073897286757314,
          3.1630919310737573,
          3.4470928961368963,
          2.208813678005546,
          5.412357839551379,
          2.768851943263104,
          3.746572973103466,
          3.5765259152594644,
          4.958264472618699,
          2.336484668112853,
          2.7351595670822753
         ],
         "y": [
          587.9510539684005,
          392.2049334443264,
          487.54750486747207,
          581.8523440352177,
          599.4060920457634,
          637.102447915074,
          521.5721747578274,
          549.9041461052942,
          570.2004089636196,
          427.1993848953282,
          492.6060127179966,
          522.3374046069357,
          408.6403510726275,
          573.4158673313865,
          470.4527333009554,
          461.7807421962299,
          457.84769594494855,
          407.70454754954415,
          452.3156754800354,
          605.061038804892,
          534.7057438060227,
          419.93877483917913,
          436.51560572936256,
          519.3409891307888,
          700.9170916173961,
          423.17999168059777,
          619.8956398616367,
          486.83893476506273,
          529.537665336851,
          554.7220838330761,
          497.5866713004408,
          447.6879065360587,
          588.7126055095755,
          491.07322367951963,
          507.4418323396168,
          521.8835731664783,
          347.77692663187264,
          490.73863214395465,
          478.1703340540876,
          537.8461952695957,
          532.7517875818364,
          501.87443028426947,
          591.1971781805905,
          547.2443434159983,
          448.22982918655,
          549.860590464497,
          593.9150029682891,
          563.6728733601083,
          479.73194908594513,
          416.35835357990084,
          725.5848140556806,
          442.667251738628,
          384.62657156940537,
          451.4574468676027,
          522.40414125956,
          483.67330801904563,
          520.8987944502368,
          453.16950235469744,
          496.650708068581,
          547.3651405940458,
          616.8515229667128,
          507.21256900067846,
          613.5993233689068,
          483.15972078451705,
          540.2634004105403,
          765.5184619388373,
          553.6015346844503,
          469.3108614953106,
          408.6201878298378,
          451.57568515949305,
          444.96655165329264,
          595.8228366992038,
          418.1500810968496,
          534.7771880994133,
          578.2416050583772,
          478.7193568742153,
          444.2859074976437,
          544.7798637193824,
          488.78606109390563,
          475.759067788328,
          489.8124879964614,
          462.8976361529081,
          596.4301726172282,
          338.31986264152215,
          533.5149352552407,
          536.7718993628412,
          487.37930601702914,
          473.7289665129948,
          547.1259317471988,
          505.11334353985785,
          449.0703194428044,
          611.0000251040717,
          515.8288148548279,
          439.07476674164496,
          514.0889577465721,
          543.340166256701,
          521.1429518103512,
          614.7153338263417,
          507.39006178986654,
          495.2994425473087,
          518.0645579840107,
          390.1032729724755,
          420.73767324463716,
          492.1050523891852,
          410.0696110599829,
          497.51368332936767,
          494.55186108657256,
          378.3309069068038,
          570.451725912857,
          549.0082269346927,
          459.285123462352,
          492.94505306595823,
          424.7626355099111,
          422.4267758765091,
          642.1015787311585,
          413.3717831104521,
          479.23109291159307,
          593.0772413447513,
          506.5473070543517,
          571.3074948754644,
          576.311177371677,
          576.8025473995871,
          514.239520718957,
          495.1759504494754,
          514.3365582674006,
          541.2265839893283,
          516.8315566841785,
          468.44573722740637,
          548.2803201983364,
          431.6177337614297,
          552.9403454501056,
          573.3062222574563,
          452.62725499508304,
          542.7115581025776,
          407.8040306356823,
          482.3535703213532,
          529.2300901235094,
          433.0487690958266,
          476.1914133494556,
          439.997879939927,
          448.93329320767435,
          472.9922466667984,
          463.9235129903258,
          350.05820016384513,
          460.06127739124327,
          505.77114032295646,
          463.484995404266,
          479.73193764530447,
          424.18549428888633,
          465.8893127108669,
          426.7752159856604,
          684.1634310159512,
          555.8925953881737,
          657.0199239376519,
          595.8038188761143,
          503.9783790525795,
          586.1558701804727,
          744.2218671047146,
          512.8253581285203,
          528.2238093680072,
          468.9135013219844,
          357.5914394150861,
          536.4231045259343,
          490.2065999848547,
          550.0475805761635,
          513.4505711860965,
          497.8119300055205,
          578.9862585804897,
          506.5363931400864,
          501.74923330839226,
          421.9667941858674,
          439.8912804768137,
          666.125591725772,
          298.76200786180766,
          465.17662330529686,
          373.88572369695015,
          532.7174856761749,
          554.9007830202702,
          537.7731625414566,
          501.100245232053,
          517.1651355939779,
          557.5292736134538,
          493.71919297817595,
          452.12262508578493,
          577.2734549822936,
          485.9231305248517,
          425.74509203105276,
          537.2150526997326,
          524.6379646141048,
          478.8853913201482,
          612.3852298963608,
          476.76672415476344,
          505.11963752820367,
          545.9454921414049,
          434.0216997527185,
          424.67528101321335,
          352.55010816300035,
          662.9610878058954,
          560.5601606242603,
          467.5019004269896,
          504.87043239337237,
          590.56271964715,
          443.9656268098819,
          392.4973991890214,
          568.7175759305222,
          712.3963268096637,
          413.29599918102974,
          562.0820453929382,
          412.012931298847,
          468.66846559912733,
          496.55408163560713,
          548.5185292758069,
          536.1308968550213,
          558.4272571753238,
          357.86371863839173,
          529.0566631985306,
          387.3570727364218,
          528.9336185650203,
          420.91615953269286,
          496.9334462555319,
          519.372976801355,
          591.4377355684502,
          502.4097853029053,
          604.3348400688553,
          555.0683940545761,
          256.67058229005585,
          547.1109823629461,
          461.9208768928978,
          458.3769106506301,
          436.28349814675136,
          532.9352188376637,
          512.5525343564016,
          630.4227632299235,
          463.74598112062944,
          493.18021624931,
          501.2091726816533,
          501.9282648732441,
          376.3369007569242,
          421.3266312569514,
          538.774933478023,
          398.16346853365195,
          571.4710341154247,
          451.62861054019965,
          490.6004425003995,
          591.7810894256675,
          409.0704720533178,
          563.4460356732392,
          647.6194557251927,
          448.34042501104767,
          518.7864830920807,
          523.6339351357243,
          393.8573709860865,
          426.154547713103,
          503.3878872879605,
          482.60246732948264,
          524.7976275698038,
          574.6548433659394,
          574.7472196620896,
          660.4251842914138,
          375.3984554102432,
          640.1877400085722,
          514.0098178487357,
          376.49684071853693,
          484.51980911055114,
          614.7296376283243,
          567.4750105270774,
          554.0030934297989,
          399.98387159812256,
          479.17285149109694,
          585.9318442972224,
          540.9957391083377,
          628.0478039330168,
          582.4919237338106,
          640.7861663983061,
          446.41867337013565,
          570.6300980875259,
          423.3083340974698,
          616.6602860166827,
          530.3624688854229,
          442.3631173838644,
          511.9798599920658,
          560.4437921717631,
          475.2634237275485,
          374.2696745439231,
          463.5914180279406,
          471.602884392892,
          626.018672655394,
          432.47206125141577,
          356.6155678900057,
          467.4278485003528,
          503.21739311910665,
          378.47356644790113,
          584.2183134866807,
          451.7278633175868,
          557.6341089957289,
          432.7207178399336,
          506.42385996980016,
          510.1598172791045,
          587.5747994806404,
          282.4712457199145,
          473.94985742281614,
          489.9080530975354,
          541.9722037582585,
          266.086340948469,
          494.68715581028533,
          689.7876041747194,
          387.5347163057077,
          441.89663151788625,
          604.8413188212228,
          302.18954780965197,
          479.6148116731425,
          506.132342437705,
          319.9288698031936,
          528.3092250312227,
          610.1280331303979,
          584.1058850493532,
          466.4211988217437,
          404.82452887268687,
          564.7909690079206,
          596.516697973153,
          368.6547849470645,
          542.4124767293989,
          478.2621263968358,
          473.360495571661,
          559.1990479544187,
          447.18764430541853,
          505.2300682820706,
          557.2526867470547,
          422.36873660682664,
          445.06218550892487,
          442.06441375806565,
          533.0400601788124,
          424.2028270990325,
          498.635598489176,
          330.5944460341002,
          443.4418600624623,
          478.60091594433294,
          440.0027475469415,
          357.7831107453153,
          476.139246872566,
          501.12249150365636,
          592.6884532021675,
          486.0834255029927,
          576.0252441251166,
          442.7228915742714,
          461.7909590614097,
          488.38752578014504,
          593.1564014822196,
          392.8103449837972,
          443.1972210287554,
          535.4807751896418,
          533.3965537868428,
          532.1274491097012,
          558.9481123879059,
          508.771906741518,
          403.7669020956173,
          640.5840618984408,
          461.6282783910862,
          382.41610786547517,
          561.874657668983,
          444.5761441337301,
          401.03313521910604,
          384.3260571375157,
          527.7829957560522,
          482.14499687576796,
          594.2744834186118,
          502.0925279023197,
          407.65717875932603,
          708.9351848669818,
          531.9615505451646,
          521.2407802357949,
          447.36902719933136,
          385.152337987975,
          430.5888825564849,
          418.602742095224,
          478.95140475788554,
          483.79652206149285,
          538.941974531203,
          486.1637990666317,
          385.0950070687634,
          527.7837897574573,
          547.1907493518986,
          410.6029439492151,
          583.9778019715427,
          474.53232943988985,
          414.9350606518193,
          550.8133677324173,
          458.78113168424994,
          407.54216801343483,
          581.3089328794999,
          546.5566668627299,
          503.1750851912004,
          549.1315732872171,
          482.8309858617017,
          557.6082620533542,
          484.87696493512857,
          669.9871405017029,
          547.7099885778624,
          537.8252822957112,
          408.2169017707518,
          663.0748176067602,
          506.37586675019753,
          528.4193296952955,
          632.1235881419657,
          488.2702979651482,
          508.7357409506604,
          411.1869635742789,
          409.0945261923378,
          467.8009243667916,
          512.1658663881581,
          608.2718166151668,
          589.0264897562791,
          444.0538265727728,
          493.1812613907186,
          532.724805462904,
          275.9184206503857,
          511.03878605116114,
          438.41774201146853,
          475.7250679098812,
          483.54319386538816,
          663.8036932755083,
          544.4092721605869,
          630.1567281670505,
          461.11224843060927,
          491.9115050963458,
          574.4156896079883,
          530.7667186547619,
          581.7987976770314,
          556.2981411740467,
          502.132789227254,
          556.1863688687886,
          475.07162989966173,
          486.9470538397658,
          434.1442020262987,
          304.1355915788555,
          571.2160048349454,
          583.0796356620574,
          445.74984123965226,
          392.99225591403086,
          565.9943634015267,
          499.14015244905386,
          510.5394216996283,
          308.52774655803336,
          561.5165319790891,
          423.4705331738239,
          513.1531118530668,
          529.1945188649573,
          314.4385182951061,
          478.5842860083426,
          444.5821649786528,
          475.0154070877503,
          436.7205558562188,
          521.1953105318003,
          478.18305971187965,
          432.48116855701767,
          438.30370784642975,
          388.9405487921943,
          534.7714849461672,
          537.9157529213054,
          407.8763782204976,
          618.8459704239658,
          502.77107456549606,
          397.420584096457,
          392.2852442462675,
          689.2356997616951,
          543.1326262891694,
          577.7360248512277,
          436.5807403475482,
          553.9946735912697,
          427.3565308022928,
          424.7287739291025,
          541.0498309594357,
          469.38314617236114,
          444.54554965110816,
          492.55683370047706,
          535.3216100850124,
          408.9583359406166,
          487.5554580579016,
          487.6462317438417,
          402.16712222372564,
          551.0230017027826,
          497.3895577588434,
          494.6386097568927,
          479.2474167840931,
          462.65651893471335,
          515.5024796636585,
          576.4776071703129,
          357.85798360521926,
          597.7398788791847,
          327.37795258965207,
          510.4013884525048,
          510.50147847479735,
          403.8195198321978,
          627.603318713015,
          510.661792219672,
          573.8474377162278,
          529.0490041294304,
          551.6201454762477,
          456.46951006629797,
          497.7786422156802
         ]
        }
       ],
       "layout": {
        "legend": {
         "bgcolor": "#F5F6F9",
         "font": {
          "color": "#4D5663"
         }
        },
        "paper_bgcolor": "#F5F6F9",
        "plot_bgcolor": "#F5F6F9",
        "template": {
         "data": {
          "bar": [
           {
            "error_x": {
             "color": "#2a3f5f"
            },
            "error_y": {
             "color": "#2a3f5f"
            },
            "marker": {
             "line": {
              "color": "#E5ECF6",
              "width": 0.5
             }
            },
            "type": "bar"
           }
          ],
          "barpolar": [
           {
            "marker": {
             "line": {
              "color": "#E5ECF6",
              "width": 0.5
             }
            },
            "type": "barpolar"
           }
          ],
          "carpet": [
           {
            "aaxis": {
             "endlinecolor": "#2a3f5f",
             "gridcolor": "white",
             "linecolor": "white",
             "minorgridcolor": "white",
             "startlinecolor": "#2a3f5f"
            },
            "baxis": {
             "endlinecolor": "#2a3f5f",
             "gridcolor": "white",
             "linecolor": "white",
             "minorgridcolor": "white",
             "startlinecolor": "#2a3f5f"
            },
            "type": "carpet"
           }
          ],
          "choropleth": [
           {
            "colorbar": {
             "outlinewidth": 0,
             "ticks": ""
            },
            "type": "choropleth"
           }
          ],
          "contour": [
           {
            "colorbar": {
             "outlinewidth": 0,
             "ticks": ""
            },
            "colorscale": [
             [
              0,
              "#0d0887"
             ],
             [
              0.1111111111111111,
              "#46039f"
             ],
             [
              0.2222222222222222,
              "#7201a8"
             ],
             [
              0.3333333333333333,
              "#9c179e"
             ],
             [
              0.4444444444444444,
              "#bd3786"
             ],
             [
              0.5555555555555556,
              "#d8576b"
             ],
             [
              0.6666666666666666,
              "#ed7953"
             ],
             [
              0.7777777777777778,
              "#fb9f3a"
             ],
             [
              0.8888888888888888,
              "#fdca26"
             ],
             [
              1,
              "#f0f921"
             ]
            ],
            "type": "contour"
           }
          ],
          "contourcarpet": [
           {
            "colorbar": {
             "outlinewidth": 0,
             "ticks": ""
            },
            "type": "contourcarpet"
           }
          ],
          "heatmap": [
           {
            "colorbar": {
             "outlinewidth": 0,
             "ticks": ""
            },
            "colorscale": [
             [
              0,
              "#0d0887"
             ],
             [
              0.1111111111111111,
              "#46039f"
             ],
             [
              0.2222222222222222,
              "#7201a8"
             ],
             [
              0.3333333333333333,
              "#9c179e"
             ],
             [
              0.4444444444444444,
              "#bd3786"
             ],
             [
              0.5555555555555556,
              "#d8576b"
             ],
             [
              0.6666666666666666,
              "#ed7953"
             ],
             [
              0.7777777777777778,
              "#fb9f3a"
             ],
             [
              0.8888888888888888,
              "#fdca26"
             ],
             [
              1,
              "#f0f921"
             ]
            ],
            "type": "heatmap"
           }
          ],
          "heatmapgl": [
           {
            "colorbar": {
             "outlinewidth": 0,
             "ticks": ""
            },
            "colorscale": [
             [
              0,
              "#0d0887"
             ],
             [
              0.1111111111111111,
              "#46039f"
             ],
             [
              0.2222222222222222,
              "#7201a8"
             ],
             [
              0.3333333333333333,
              "#9c179e"
             ],
             [
              0.4444444444444444,
              "#bd3786"
             ],
             [
              0.5555555555555556,
              "#d8576b"
             ],
             [
              0.6666666666666666,
              "#ed7953"
             ],
             [
              0.7777777777777778,
              "#fb9f3a"
             ],
             [
              0.8888888888888888,
              "#fdca26"
             ],
             [
              1,
              "#f0f921"
             ]
            ],
            "type": "heatmapgl"
           }
          ],
          "histogram": [
           {
            "marker": {
             "colorbar": {
              "outlinewidth": 0,
              "ticks": ""
             }
            },
            "type": "histogram"
           }
          ],
          "histogram2d": [
           {
            "colorbar": {
             "outlinewidth": 0,
             "ticks": ""
            },
            "colorscale": [
             [
              0,
              "#0d0887"
             ],
             [
              0.1111111111111111,
              "#46039f"
             ],
             [
              0.2222222222222222,
              "#7201a8"
             ],
             [
              0.3333333333333333,
              "#9c179e"
             ],
             [
              0.4444444444444444,
              "#bd3786"
             ],
             [
              0.5555555555555556,
              "#d8576b"
             ],
             [
              0.6666666666666666,
              "#ed7953"
             ],
             [
              0.7777777777777778,
              "#fb9f3a"
             ],
             [
              0.8888888888888888,
              "#fdca26"
             ],
             [
              1,
              "#f0f921"
             ]
            ],
            "type": "histogram2d"
           }
          ],
          "histogram2dcontour": [
           {
            "colorbar": {
             "outlinewidth": 0,
             "ticks": ""
            },
            "colorscale": [
             [
              0,
              "#0d0887"
             ],
             [
              0.1111111111111111,
              "#46039f"
             ],
             [
              0.2222222222222222,
              "#7201a8"
             ],
             [
              0.3333333333333333,
              "#9c179e"
             ],
             [
              0.4444444444444444,
              "#bd3786"
             ],
             [
              0.5555555555555556,
              "#d8576b"
             ],
             [
              0.6666666666666666,
              "#ed7953"
             ],
             [
              0.7777777777777778,
              "#fb9f3a"
             ],
             [
              0.8888888888888888,
              "#fdca26"
             ],
             [
              1,
              "#f0f921"
             ]
            ],
            "type": "histogram2dcontour"
           }
          ],
          "mesh3d": [
           {
            "colorbar": {
             "outlinewidth": 0,
             "ticks": ""
            },
            "type": "mesh3d"
           }
          ],
          "parcoords": [
           {
            "line": {
             "colorbar": {
              "outlinewidth": 0,
              "ticks": ""
             }
            },
            "type": "parcoords"
           }
          ],
          "pie": [
           {
            "automargin": true,
            "type": "pie"
           }
          ],
          "scatter": [
           {
            "marker": {
             "colorbar": {
              "outlinewidth": 0,
              "ticks": ""
             }
            },
            "type": "scatter"
           }
          ],
          "scatter3d": [
           {
            "line": {
             "colorbar": {
              "outlinewidth": 0,
              "ticks": ""
             }
            },
            "marker": {
             "colorbar": {
              "outlinewidth": 0,
              "ticks": ""
             }
            },
            "type": "scatter3d"
           }
          ],
          "scattercarpet": [
           {
            "marker": {
             "colorbar": {
              "outlinewidth": 0,
              "ticks": ""
             }
            },
            "type": "scattercarpet"
           }
          ],
          "scattergeo": [
           {
            "marker": {
             "colorbar": {
              "outlinewidth": 0,
              "ticks": ""
             }
            },
            "type": "scattergeo"
           }
          ],
          "scattergl": [
           {
            "marker": {
             "colorbar": {
              "outlinewidth": 0,
              "ticks": ""
             }
            },
            "type": "scattergl"
           }
          ],
          "scattermapbox": [
           {
            "marker": {
             "colorbar": {
              "outlinewidth": 0,
              "ticks": ""
             }
            },
            "type": "scattermapbox"
           }
          ],
          "scatterpolar": [
           {
            "marker": {
             "colorbar": {
              "outlinewidth": 0,
              "ticks": ""
             }
            },
            "type": "scatterpolar"
           }
          ],
          "scatterpolargl": [
           {
            "marker": {
             "colorbar": {
              "outlinewidth": 0,
              "ticks": ""
             }
            },
            "type": "scatterpolargl"
           }
          ],
          "scatterternary": [
           {
            "marker": {
             "colorbar": {
              "outlinewidth": 0,
              "ticks": ""
             }
            },
            "type": "scatterternary"
           }
          ],
          "surface": [
           {
            "colorbar": {
             "outlinewidth": 0,
             "ticks": ""
            },
            "colorscale": [
             [
              0,
              "#0d0887"
             ],
             [
              0.1111111111111111,
              "#46039f"
             ],
             [
              0.2222222222222222,
              "#7201a8"
             ],
             [
              0.3333333333333333,
              "#9c179e"
             ],
             [
              0.4444444444444444,
              "#bd3786"
             ],
             [
              0.5555555555555556,
              "#d8576b"
             ],
             [
              0.6666666666666666,
              "#ed7953"
             ],
             [
              0.7777777777777778,
              "#fb9f3a"
             ],
             [
              0.8888888888888888,
              "#fdca26"
             ],
             [
              1,
              "#f0f921"
             ]
            ],
            "type": "surface"
           }
          ],
          "table": [
           {
            "cells": {
             "fill": {
              "color": "#EBF0F8"
             },
             "line": {
              "color": "white"
             }
            },
            "header": {
             "fill": {
              "color": "#C8D4E3"
             },
             "line": {
              "color": "white"
             }
            },
            "type": "table"
           }
          ]
         },
         "layout": {
          "annotationdefaults": {
           "arrowcolor": "#2a3f5f",
           "arrowhead": 0,
           "arrowwidth": 1
          },
          "coloraxis": {
           "colorbar": {
            "outlinewidth": 0,
            "ticks": ""
           }
          },
          "colorscale": {
           "diverging": [
            [
             0,
             "#8e0152"
            ],
            [
             0.1,
             "#c51b7d"
            ],
            [
             0.2,
             "#de77ae"
            ],
            [
             0.3,
             "#f1b6da"
            ],
            [
             0.4,
             "#fde0ef"
            ],
            [
             0.5,
             "#f7f7f7"
            ],
            [
             0.6,
             "#e6f5d0"
            ],
            [
             0.7,
             "#b8e186"
            ],
            [
             0.8,
             "#7fbc41"
            ],
            [
             0.9,
             "#4d9221"
            ],
            [
             1,
             "#276419"
            ]
           ],
           "sequential": [
            [
             0,
             "#0d0887"
            ],
            [
             0.1111111111111111,
             "#46039f"
            ],
            [
             0.2222222222222222,
             "#7201a8"
            ],
            [
             0.3333333333333333,
             "#9c179e"
            ],
            [
             0.4444444444444444,
             "#bd3786"
            ],
            [
             0.5555555555555556,
             "#d8576b"
            ],
            [
             0.6666666666666666,
             "#ed7953"
            ],
            [
             0.7777777777777778,
             "#fb9f3a"
            ],
            [
             0.8888888888888888,
             "#fdca26"
            ],
            [
             1,
             "#f0f921"
            ]
           ],
           "sequentialminus": [
            [
             0,
             "#0d0887"
            ],
            [
             0.1111111111111111,
             "#46039f"
            ],
            [
             0.2222222222222222,
             "#7201a8"
            ],
            [
             0.3333333333333333,
             "#9c179e"
            ],
            [
             0.4444444444444444,
             "#bd3786"
            ],
            [
             0.5555555555555556,
             "#d8576b"
            ],
            [
             0.6666666666666666,
             "#ed7953"
            ],
            [
             0.7777777777777778,
             "#fb9f3a"
            ],
            [
             0.8888888888888888,
             "#fdca26"
            ],
            [
             1,
             "#f0f921"
            ]
           ]
          },
          "colorway": [
           "#636efa",
           "#EF553B",
           "#00cc96",
           "#ab63fa",
           "#FFA15A",
           "#19d3f3",
           "#FF6692",
           "#B6E880",
           "#FF97FF",
           "#FECB52"
          ],
          "font": {
           "color": "#2a3f5f"
          },
          "geo": {
           "bgcolor": "white",
           "lakecolor": "white",
           "landcolor": "#E5ECF6",
           "showlakes": true,
           "showland": true,
           "subunitcolor": "white"
          },
          "hoverlabel": {
           "align": "left"
          },
          "hovermode": "closest",
          "mapbox": {
           "style": "light"
          },
          "paper_bgcolor": "white",
          "plot_bgcolor": "#E5ECF6",
          "polar": {
           "angularaxis": {
            "gridcolor": "white",
            "linecolor": "white",
            "ticks": ""
           },
           "bgcolor": "#E5ECF6",
           "radialaxis": {
            "gridcolor": "white",
            "linecolor": "white",
            "ticks": ""
           }
          },
          "scene": {
           "xaxis": {
            "backgroundcolor": "#E5ECF6",
            "gridcolor": "white",
            "gridwidth": 2,
            "linecolor": "white",
            "showbackground": true,
            "ticks": "",
            "zerolinecolor": "white"
           },
           "yaxis": {
            "backgroundcolor": "#E5ECF6",
            "gridcolor": "white",
            "gridwidth": 2,
            "linecolor": "white",
            "showbackground": true,
            "ticks": "",
            "zerolinecolor": "white"
           },
           "zaxis": {
            "backgroundcolor": "#E5ECF6",
            "gridcolor": "white",
            "gridwidth": 2,
            "linecolor": "white",
            "showbackground": true,
            "ticks": "",
            "zerolinecolor": "white"
           }
          },
          "shapedefaults": {
           "line": {
            "color": "#2a3f5f"
           }
          },
          "ternary": {
           "aaxis": {
            "gridcolor": "white",
            "linecolor": "white",
            "ticks": ""
           },
           "baxis": {
            "gridcolor": "white",
            "linecolor": "white",
            "ticks": ""
           },
           "bgcolor": "#E5ECF6",
           "caxis": {
            "gridcolor": "white",
            "linecolor": "white",
            "ticks": ""
           }
          },
          "title": {
           "x": 0.05
          },
          "xaxis": {
           "automargin": true,
           "gridcolor": "white",
           "linecolor": "white",
           "ticks": "",
           "title": {
            "standoff": 15
           },
           "zerolinecolor": "white",
           "zerolinewidth": 2
          },
          "yaxis": {
           "automargin": true,
           "gridcolor": "white",
           "linecolor": "white",
           "ticks": "",
           "title": {
            "standoff": 15
           },
           "zerolinecolor": "white",
           "zerolinewidth": 2
          }
         }
        },
        "title": {
         "font": {
          "color": "#4D5663"
         }
        },
        "xaxis": {
         "gridcolor": "#E1E5ED",
         "showgrid": true,
         "tickfont": {
          "color": "#4D5663"
         },
         "title": {
          "font": {
           "color": "#4D5663"
          },
          "text": "Length of Membership"
         },
         "zerolinecolor": "#E1E5ED"
        },
        "yaxis": {
         "gridcolor": "#E1E5ED",
         "showgrid": true,
         "tickfont": {
          "color": "#4D5663"
         },
         "title": {
          "font": {
           "color": "#4D5663"
          },
          "text": "Yearly Amount Spent"
         },
         "zerolinecolor": "#E1E5ED"
        }
       }
      },
      "text/html": [
       "<div>                            <div id=\"07b02c14-9252-4717-9dda-2b659f2a4d8d\" class=\"plotly-graph-div\" style=\"height:525px; width:100%;\"></div>            <script type=\"text/javascript\">                require([\"plotly\"], function(Plotly) {                    window.PLOTLYENV=window.PLOTLYENV || {};\n",
       "                    window.PLOTLYENV.BASE_URL='https://plot.ly';                                    if (document.getElementById(\"07b02c14-9252-4717-9dda-2b659f2a4d8d\")) {                    Plotly.newPlot(                        \"07b02c14-9252-4717-9dda-2b659f2a4d8d\",                        [{\"line\": {\"color\": \"rgba(255, 153, 51, 1.0)\", \"dash\": \"solid\", \"shape\": \"linear\", \"width\": 1.3}, \"marker\": {\"size\": 12, \"symbol\": \"circle\"}, \"mode\": \"markers\", \"name\": \"Yearly Amount Spent\", \"text\": \"\", \"type\": \"scatter\", \"x\": [4.0826206329529615, 2.66403418213262, 4.104543202376424, 3.120178782748092, 4.446308318351434, 5.493507201364199, 4.685017246570912, 4.4342734348999375, 3.2734335777477144, 3.202806071553459, 2.482607770510596, 3.71320920294043, 4.046423164299585, 3.918541839158999, 2.494543646659249, 3.3578468423262944, 3.1361327164897803, 2.420806160901484, 1.516575580831944, 4.064548550437977, 4.599937357614995, 1.559151939957077, 2.2451477874052825, 3.919302308553184, 5.7051539706010255, 2.7217359920452187, 4.6481993164286015, 2.9963645262685388, 3.923488745527437, 4.742577519573316, 3.0623681453116887, 3.471413452477678, 4.343062915388998, 2.8200972339734696, 4.1245852967146535, 3.6492861577147018, 1.8473704233395083, 3.4523885826307272, 4.650491269094463, 4.22243622534277, 4.6712754609062515, 4.646119976606155, 4.214495086037866, 4.643258549800133, 2.2586863869468434, 3.6631054912838534, 3.8768751769237673, 4.113226122724209, 3.2025311992107337, 3.1983992716849063, 5.97676812602, 2.952668957921736, 2.0948917061051766, 3.8554716845641805, 2.874596910303952, 3.3920504890738385, 2.995761182613056, 3.3152247539154036, 3.4719191365417483, 3.9705556280753487, 4.639320331857263, 5.0812100924911086, 4.802630630523376, 3.414688422504897, 3.462298847460372, 5.377593583586979, 4.0017863457980845, 3.4395905595500764, 2.7795207192736093, 3.5526497674265176, 2.6022871120328714, 4.694322274442824, 3.4015223445155094, 3.8515788003584657, 3.2581128828882795, 3.1205689148169737, 2.8379431640697987, 4.4702825841200236, 4.4420543290111665, 3.1649439952851135, 3.7517345520890513, 3.159754443950926, 4.130562809236324, 1.9140899242311, 4.3966519010970835, 5.1133194748706225, 2.669941624279581, 3.3664637433729325, 4.571213023779052, 3.917451119136939, 2.4761390505964114, 4.125584363255396, 3.9972553776226674, 1.3626740800013843, 4.193324635532072, 3.871003400176416, 4.081802694781509, 4.252006105620936, 3.911708668370663, 3.021671821710012, 3.1846186616208865, 2.877224878259828, 2.5869679851624765, 2.9696402266327597, 3.4288599039280125, 2.926940235492512, 3.781823039343296, 3.004742535925674, 3.854473855602962, 3.3188222789308934, 3.361814624383144, 3.722561172893833, 3.5435470501829984, 2.7894615163747076, 5.4859767341605234, 2.59418972057778, 2.7534241687581194, 5.004820577490747, 3.8733375687432523, 3.79872531905254, 3.2927976625756474, 4.716104987209577, 4.018726609737513, 3.637701279515837, 3.8341696666325986, 4.531986606666632, 4.106055151602658, 3.2182653850978555, 3.283663455404016, 2.924020724598205, 3.90525030898213, 4.920318406118319, 2.473596120847858, 4.131276648377654, 1.7677307075942403, 2.72410820200549, 3.897115859957253, 2.491671541288354, 3.8634254422050343, 3.5786339003939878, 3.9588922643660966, 3.251741770306888, 3.914384667246393, 1.4435150746515455, 2.910037916541069, 3.3455709758422434, 3.0895277822700096, 4.514122441132637, 1.8258846690261428, 3.993656512525085, 2.6521583048512407, 6.401228837806772, 5.391275125020631, 6.076653638440144, 3.8648607392342784, 2.941410754428091, 5.084861308602488, 6.922689335035808, 3.6043985602569495, 3.7849321101304056, 3.3091823280429797, 0.9686221157417688, 3.7685619627098967, 3.5851606351613436, 4.5203533774965585, 3.6758488000184415, 2.873007508505152, 4.055775961742958, 3.015175298743708, 4.717102512825834, 2.926396448726688, 2.361086946869883, 4.9687426737281415, 0.8015157200042076, 3.669225611315444, 1.7157771665531147, 4.773503047345896, 4.087837272921703, 4.131755039569861, 3.4427992020016864, 4.724027439824315, 3.2309738432875563, 2.9722713820798212, 3.1823297317868184, 4.8063496187852826, 3.6203649883552, 3.261324744787093, 3.597459968849926, 4.789201624179895, 3.3164647447029107, 4.632460945972205, 3.3084430006746035, 4.015986640445782, 4.369366793790984, 2.56663984381683, 3.5190324339539223, 1.503854421225295, 5.039955263662929, 4.47871260846301, 3.361612984538193, 1.9207154781756468, 4.3307144618605635, 3.811248170807232, 3.0887639575315755, 4.541695256706066, 5.066696864020984, 3.1074686827074625, 4.7469897029351396, 3.091826869545788, 3.1956257763719886, 3.8502796390964265, 3.974522480483529, 3.843848921495288, 2.9090084604850786, 1.1390935384245742, 2.6852848361090778, 3.1089114491812744, 4.852842407156434, 2.30755242118396, 4.83552866742221, 3.6785893989539975, 5.254708925941115, 3.8928914802112553, 4.3894552264165165, 4.003325039023282, 0.7895199078816915, 4.403369830866465, 2.648596770203317, 2.3678482243852215, 3.0507129732180167, 3.641497161540088, 3.397363092819078, 4.297686524285517, 3.8033649990651752, 2.6334199887174443, 3.634093727357596, 3.467014066009709, 1.4943108951995074, 2.267251114447051, 5.023934200606659, 2.471750669720034, 4.2977374819712075, 2.4369588757864635, 3.656983926688144, 5.000243360514445, 2.4128309609709255, 5.314354141170212, 4.0777750980104255, 3.2750706813095327, 3.634996006306897, 3.9824715131070567, 3.2877018240744085, 2.3133498845806395, 3.557813698186695, 3.350279287544909, 2.9070949348220267, 3.7927119551515887, 4.029453828152191, 4.9784757934702615, 2.6995620549722683, 3.9306153266132897, 3.456233823526301, 2.1820169698233887, 2.7095266269292764, 4.594116864603191, 4.25698328967803, 3.784273087078304, 1.62341960945622, 3.4145062403052493, 3.6060868889081727, 3.275733705185027, 5.007271986589903, 3.37125811322392, 5.453969474611709, 3.7558693892629655, 4.664258497238649, 3.8066709485629935, 5.049927474652407, 2.871947536151015, 3.2367328142505314, 3.086337272317325, 4.559699083258959, 3.0102097779609496, 1.8092295917763102, 3.594295099901167, 3.0491957437894315, 3.6343402240734415, 1.4823596439649784, 2.921350140816143, 1.8100798764120296, 3.3731046739911137, 2.2147975193939367, 5.454463277564527, 3.2018017221749915, 4.729484541572504, 3.205529764506833, 3.802511438790271, 4.116340467131812, 5.462500764129898, 1.4816166268553612, 3.771420131891554, 2.898299577888636, 3.5690465158585187, 1.0845853030221226, 3.0234744460455456, 5.56638489205681, 2.3951681299791368, 3.5048334855202996, 5.226687712532106, 1.8382107022501144, 3.363411393785737, 2.957448756503683, 2.0838141920346707, 3.680847338174777, 4.693732057983858, 4.008352234634593, 2.5320440615078934, 2.8709869096996963, 3.515688256202335, 4.069916618589859, 1.2004838567566694, 3.22945090446699, 4.086566338485993, 4.019470351595002, 4.205903889533483, 2.0181946292873114, 4.2438128167261855, 4.626075291951958, 3.0029570228338396, 1.823595182991803, 4.078308001651641, 3.689916615447592, 2.1901321853800533, 3.2067566975868704, 1.9770071278430592, 3.3492453825271813, 3.5328615795564753, 2.9747368150832405, 2.6181653103960847, 2.8040136926903942, 2.9644978762354017, 4.3508878437244665, 3.8724320418689104, 4.615426306527649, 2.727209453758874, 3.537123879902206, 3.1265094896599996, 5.137816745950984, 3.1286388557446334, 3.1789524050534483, 3.827375915107567, 4.808320372869162, 4.048510087289211, 4.5433324132930855, 3.4810621331251683, 2.627624971434411, 4.794312263402833, 2.7618619263014166, 2.1596760229888288, 4.1956144126751305, 2.139403004485981, 3.4345597225409197, 2.8684281816397523, 3.137068975480682, 3.5258064121952244, 5.038107493844868, 3.6122391519937, 2.895075162804356, 5.705940716620837, 5.0470225513951, 4.778973636034999, 2.9665588846599196, 2.6689197733345025, 3.620354588804087, 4.238296188412728, 2.4793398232086954, 3.506967573635258, 3.3101503465768563, 3.535802467873828, 1.1304769604319769, 3.2287176862706497, 3.3459223210048927, 3.2156668270219866, 3.7905521368804433, 3.5612152714310823, 2.9316195346511518, 3.0465406206892376, 2.739200466766662, 2.783963128204522, 4.330407444211276, 3.41620997759013, 3.3363393820041853, 4.6628453040025635, 3.2220807667609574, 3.772969024644708, 3.4201495301648563, 6.115198945760052, 3.4880299912225916, 4.082855278762214, 2.8296995751470893, 5.405406467229509, 3.4517507098331026, 2.9355772737404866, 4.75036007144446, 3.5314023030588984, 3.904479379627935, 2.3990797897904117, 2.8477090264744978, 3.7817035651048387, 4.34977841863416, 4.574287716419565, 4.620416384895068, 3.0130325004194374, 4.791108744558266, 4.334001444341368, 1.4288238768282668, 4.137000388171066, 2.910530822492482, 3.982462318955639, 3.7012292170202734, 5.8405058759314255, 4.560396067343642, 4.4900020655598345, 3.8598179988740084, 3.0466201888222324, 4.652854446136778, 4.0221029095289484, 3.9694177591077393, 3.7382251733253336, 3.37668749953603, 4.595522708601322, 2.2239934582520533, 4.288486770885737, 2.11738254152726, 0.9364975973183264, 3.7620704427115657, 4.00096358646012, 3.5325171645393527, 3.5350884276189447, 4.158214652664192, 3.549036057426973, 4.129254688094536, 2.2524459633808416, 4.051382465375181, 3.0720761414868827, 4.331863026751083, 3.937862643180167, 0.2699010899842742, 3.2794662600656097, 2.5717778354776577, 3.8260306175375134, 2.402453833414224, 4.02781384191709, 3.6293399152681918, 3.189609941879746, 3.393975043434297, 2.5749484700250718, 3.4720213800343784, 4.198349060814376, 2.086348146609663, 3.605933917733071, 4.034386130357467, 2.320550249888456, 3.4910933370091515, 5.320093863780987, 3.130538462464844, 4.985204970864012, 1.726962043188511, 3.7016222869142337, 1.7851739448879638, 3.0226757598626595, 4.041244969129275, 3.13952693504287, 2.5628188108032326, 2.3790764968915394, 4.301996499354755, 2.0947616690074846, 4.089330841235956, 3.5160510174718302, 1.8208106181524435, 4.183143661726128, 3.393902788069372, 4.4263640805293125, 2.9052383614465733, 2.7827578284994163, 3.4470177927906893, 4.712233578509767, 1.2281124234144234, 4.019051426800218, 1.7073897286757314, 3.1630919310737573, 3.4470928961368963, 2.208813678005546, 5.412357839551379, 2.768851943263104, 3.746572973103466, 3.5765259152594644, 4.958264472618699, 2.336484668112853, 2.7351595670822753], \"y\": [587.9510539684005, 392.2049334443264, 487.54750486747207, 581.8523440352177, 599.4060920457634, 637.102447915074, 521.5721747578274, 549.9041461052942, 570.2004089636196, 427.1993848953282, 492.6060127179966, 522.3374046069357, 408.6403510726275, 573.4158673313865, 470.4527333009554, 461.7807421962299, 457.84769594494855, 407.70454754954415, 452.3156754800354, 605.061038804892, 534.7057438060227, 419.93877483917913, 436.51560572936256, 519.3409891307888, 700.9170916173961, 423.17999168059777, 619.8956398616367, 486.83893476506273, 529.537665336851, 554.7220838330761, 497.5866713004408, 447.6879065360587, 588.7126055095755, 491.07322367951963, 507.4418323396168, 521.8835731664783, 347.77692663187264, 490.73863214395465, 478.1703340540876, 537.8461952695957, 532.7517875818364, 501.87443028426947, 591.1971781805905, 547.2443434159983, 448.22982918655, 549.860590464497, 593.9150029682891, 563.6728733601083, 479.73194908594513, 416.35835357990084, 725.5848140556806, 442.667251738628, 384.62657156940537, 451.4574468676027, 522.40414125956, 483.67330801904563, 520.8987944502368, 453.16950235469744, 496.650708068581, 547.3651405940458, 616.8515229667128, 507.21256900067846, 613.5993233689068, 483.15972078451705, 540.2634004105403, 765.5184619388373, 553.6015346844503, 469.3108614953106, 408.6201878298378, 451.57568515949305, 444.96655165329264, 595.8228366992038, 418.1500810968496, 534.7771880994133, 578.2416050583772, 478.7193568742153, 444.2859074976437, 544.7798637193824, 488.78606109390563, 475.759067788328, 489.8124879964614, 462.8976361529081, 596.4301726172282, 338.31986264152215, 533.5149352552407, 536.7718993628412, 487.37930601702914, 473.7289665129948, 547.1259317471988, 505.11334353985785, 449.0703194428044, 611.0000251040717, 515.8288148548279, 439.07476674164496, 514.0889577465721, 543.340166256701, 521.1429518103512, 614.7153338263417, 507.39006178986654, 495.2994425473087, 518.0645579840107, 390.1032729724755, 420.73767324463716, 492.1050523891852, 410.0696110599829, 497.51368332936767, 494.55186108657256, 378.3309069068038, 570.451725912857, 549.0082269346927, 459.285123462352, 492.94505306595823, 424.7626355099111, 422.4267758765091, 642.1015787311585, 413.3717831104521, 479.23109291159307, 593.0772413447513, 506.5473070543517, 571.3074948754644, 576.311177371677, 576.8025473995871, 514.239520718957, 495.1759504494754, 514.3365582674006, 541.2265839893283, 516.8315566841785, 468.44573722740637, 548.2803201983364, 431.6177337614297, 552.9403454501056, 573.3062222574563, 452.62725499508304, 542.7115581025776, 407.8040306356823, 482.3535703213532, 529.2300901235094, 433.0487690958266, 476.1914133494556, 439.997879939927, 448.93329320767435, 472.9922466667984, 463.9235129903258, 350.05820016384513, 460.06127739124327, 505.77114032295646, 463.484995404266, 479.73193764530447, 424.18549428888633, 465.8893127108669, 426.7752159856604, 684.1634310159512, 555.8925953881737, 657.0199239376519, 595.8038188761143, 503.9783790525795, 586.1558701804727, 744.2218671047146, 512.8253581285203, 528.2238093680072, 468.9135013219844, 357.5914394150861, 536.4231045259343, 490.2065999848547, 550.0475805761635, 513.4505711860965, 497.8119300055205, 578.9862585804897, 506.5363931400864, 501.74923330839226, 421.9667941858674, 439.8912804768137, 666.125591725772, 298.76200786180766, 465.17662330529686, 373.88572369695015, 532.7174856761749, 554.9007830202702, 537.7731625414566, 501.100245232053, 517.1651355939779, 557.5292736134538, 493.71919297817595, 452.12262508578493, 577.2734549822936, 485.9231305248517, 425.74509203105276, 537.2150526997326, 524.6379646141048, 478.8853913201482, 612.3852298963608, 476.76672415476344, 505.11963752820367, 545.9454921414049, 434.0216997527185, 424.67528101321335, 352.55010816300035, 662.9610878058954, 560.5601606242603, 467.5019004269896, 504.87043239337237, 590.56271964715, 443.9656268098819, 392.4973991890214, 568.7175759305222, 712.3963268096637, 413.29599918102974, 562.0820453929382, 412.012931298847, 468.66846559912733, 496.55408163560713, 548.5185292758069, 536.1308968550213, 558.4272571753238, 357.86371863839173, 529.0566631985306, 387.3570727364218, 528.9336185650203, 420.91615953269286, 496.9334462555319, 519.372976801355, 591.4377355684502, 502.4097853029053, 604.3348400688553, 555.0683940545761, 256.67058229005585, 547.1109823629461, 461.9208768928978, 458.3769106506301, 436.28349814675136, 532.9352188376637, 512.5525343564016, 630.4227632299235, 463.74598112062944, 493.18021624931, 501.2091726816533, 501.9282648732441, 376.3369007569242, 421.3266312569514, 538.774933478023, 398.16346853365195, 571.4710341154247, 451.62861054019965, 490.6004425003995, 591.7810894256675, 409.0704720533178, 563.4460356732392, 647.6194557251927, 448.34042501104767, 518.7864830920807, 523.6339351357243, 393.8573709860865, 426.154547713103, 503.3878872879605, 482.60246732948264, 524.7976275698038, 574.6548433659394, 574.7472196620896, 660.4251842914138, 375.3984554102432, 640.1877400085722, 514.0098178487357, 376.49684071853693, 484.51980911055114, 614.7296376283243, 567.4750105270774, 554.0030934297989, 399.98387159812256, 479.17285149109694, 585.9318442972224, 540.9957391083377, 628.0478039330168, 582.4919237338106, 640.7861663983061, 446.41867337013565, 570.6300980875259, 423.3083340974698, 616.6602860166827, 530.3624688854229, 442.3631173838644, 511.9798599920658, 560.4437921717631, 475.2634237275485, 374.2696745439231, 463.5914180279406, 471.602884392892, 626.018672655394, 432.47206125141577, 356.6155678900057, 467.4278485003528, 503.21739311910665, 378.47356644790113, 584.2183134866807, 451.7278633175868, 557.6341089957289, 432.7207178399336, 506.42385996980016, 510.1598172791045, 587.5747994806404, 282.4712457199145, 473.94985742281614, 489.9080530975354, 541.9722037582585, 266.086340948469, 494.68715581028533, 689.7876041747194, 387.5347163057077, 441.89663151788625, 604.8413188212228, 302.18954780965197, 479.6148116731425, 506.132342437705, 319.9288698031936, 528.3092250312227, 610.1280331303979, 584.1058850493532, 466.4211988217437, 404.82452887268687, 564.7909690079206, 596.516697973153, 368.6547849470645, 542.4124767293989, 478.2621263968358, 473.360495571661, 559.1990479544187, 447.18764430541853, 505.2300682820706, 557.2526867470547, 422.36873660682664, 445.06218550892487, 442.06441375806565, 533.0400601788124, 424.2028270990325, 498.635598489176, 330.5944460341002, 443.4418600624623, 478.60091594433294, 440.0027475469415, 357.7831107453153, 476.139246872566, 501.12249150365636, 592.6884532021675, 486.0834255029927, 576.0252441251166, 442.7228915742714, 461.7909590614097, 488.38752578014504, 593.1564014822196, 392.8103449837972, 443.1972210287554, 535.4807751896418, 533.3965537868428, 532.1274491097012, 558.9481123879059, 508.771906741518, 403.7669020956173, 640.5840618984408, 461.6282783910862, 382.41610786547517, 561.874657668983, 444.5761441337301, 401.03313521910604, 384.3260571375157, 527.7829957560522, 482.14499687576796, 594.2744834186118, 502.0925279023197, 407.65717875932603, 708.9351848669818, 531.9615505451646, 521.2407802357949, 447.36902719933136, 385.152337987975, 430.5888825564849, 418.602742095224, 478.95140475788554, 483.79652206149285, 538.941974531203, 486.1637990666317, 385.0950070687634, 527.7837897574573, 547.1907493518986, 410.6029439492151, 583.9778019715427, 474.53232943988985, 414.9350606518193, 550.8133677324173, 458.78113168424994, 407.54216801343483, 581.3089328794999, 546.5566668627299, 503.1750851912004, 549.1315732872171, 482.8309858617017, 557.6082620533542, 484.87696493512857, 669.9871405017029, 547.7099885778624, 537.8252822957112, 408.2169017707518, 663.0748176067602, 506.37586675019753, 528.4193296952955, 632.1235881419657, 488.2702979651482, 508.7357409506604, 411.1869635742789, 409.0945261923378, 467.8009243667916, 512.1658663881581, 608.2718166151668, 589.0264897562791, 444.0538265727728, 493.1812613907186, 532.724805462904, 275.9184206503857, 511.03878605116114, 438.41774201146853, 475.7250679098812, 483.54319386538816, 663.8036932755083, 544.4092721605869, 630.1567281670505, 461.11224843060927, 491.9115050963458, 574.4156896079883, 530.7667186547619, 581.7987976770314, 556.2981411740467, 502.132789227254, 556.1863688687886, 475.07162989966173, 486.9470538397658, 434.1442020262987, 304.1355915788555, 571.2160048349454, 583.0796356620574, 445.74984123965226, 392.99225591403086, 565.9943634015267, 499.14015244905386, 510.5394216996283, 308.52774655803336, 561.5165319790891, 423.4705331738239, 513.1531118530668, 529.1945188649573, 314.4385182951061, 478.5842860083426, 444.5821649786528, 475.0154070877503, 436.7205558562188, 521.1953105318003, 478.18305971187965, 432.48116855701767, 438.30370784642975, 388.9405487921943, 534.7714849461672, 537.9157529213054, 407.8763782204976, 618.8459704239658, 502.77107456549606, 397.420584096457, 392.2852442462675, 689.2356997616951, 543.1326262891694, 577.7360248512277, 436.5807403475482, 553.9946735912697, 427.3565308022928, 424.7287739291025, 541.0498309594357, 469.38314617236114, 444.54554965110816, 492.55683370047706, 535.3216100850124, 408.9583359406166, 487.5554580579016, 487.6462317438417, 402.16712222372564, 551.0230017027826, 497.3895577588434, 494.6386097568927, 479.2474167840931, 462.65651893471335, 515.5024796636585, 576.4776071703129, 357.85798360521926, 597.7398788791847, 327.37795258965207, 510.4013884525048, 510.50147847479735, 403.8195198321978, 627.603318713015, 510.661792219672, 573.8474377162278, 529.0490041294304, 551.6201454762477, 456.46951006629797, 497.7786422156802]}],                        {\"legend\": {\"bgcolor\": \"#F5F6F9\", \"font\": {\"color\": \"#4D5663\"}}, \"paper_bgcolor\": \"#F5F6F9\", \"plot_bgcolor\": \"#F5F6F9\", \"template\": {\"data\": {\"bar\": [{\"error_x\": {\"color\": \"#2a3f5f\"}, \"error_y\": {\"color\": \"#2a3f5f\"}, \"marker\": {\"line\": {\"color\": \"#E5ECF6\", \"width\": 0.5}}, \"type\": \"bar\"}], \"barpolar\": [{\"marker\": {\"line\": {\"color\": \"#E5ECF6\", \"width\": 0.5}}, \"type\": \"barpolar\"}], \"carpet\": [{\"aaxis\": {\"endlinecolor\": \"#2a3f5f\", \"gridcolor\": \"white\", \"linecolor\": \"white\", \"minorgridcolor\": \"white\", \"startlinecolor\": \"#2a3f5f\"}, \"baxis\": {\"endlinecolor\": \"#2a3f5f\", \"gridcolor\": \"white\", \"linecolor\": \"white\", \"minorgridcolor\": \"white\", \"startlinecolor\": \"#2a3f5f\"}, \"type\": \"carpet\"}], \"choropleth\": [{\"colorbar\": {\"outlinewidth\": 0, \"ticks\": \"\"}, \"type\": \"choropleth\"}], \"contour\": [{\"colorbar\": {\"outlinewidth\": 0, \"ticks\": \"\"}, \"colorscale\": [[0.0, \"#0d0887\"], [0.1111111111111111, \"#46039f\"], [0.2222222222222222, \"#7201a8\"], [0.3333333333333333, \"#9c179e\"], [0.4444444444444444, \"#bd3786\"], [0.5555555555555556, \"#d8576b\"], [0.6666666666666666, \"#ed7953\"], [0.7777777777777778, \"#fb9f3a\"], [0.8888888888888888, \"#fdca26\"], [1.0, \"#f0f921\"]], \"type\": \"contour\"}], \"contourcarpet\": [{\"colorbar\": {\"outlinewidth\": 0, \"ticks\": \"\"}, \"type\": \"contourcarpet\"}], \"heatmap\": [{\"colorbar\": {\"outlinewidth\": 0, \"ticks\": \"\"}, \"colorscale\": [[0.0, \"#0d0887\"], [0.1111111111111111, \"#46039f\"], [0.2222222222222222, \"#7201a8\"], [0.3333333333333333, \"#9c179e\"], [0.4444444444444444, \"#bd3786\"], [0.5555555555555556, \"#d8576b\"], [0.6666666666666666, \"#ed7953\"], [0.7777777777777778, \"#fb9f3a\"], [0.8888888888888888, \"#fdca26\"], [1.0, \"#f0f921\"]], \"type\": \"heatmap\"}], \"heatmapgl\": [{\"colorbar\": {\"outlinewidth\": 0, \"ticks\": \"\"}, \"colorscale\": [[0.0, \"#0d0887\"], [0.1111111111111111, \"#46039f\"], [0.2222222222222222, \"#7201a8\"], [0.3333333333333333, \"#9c179e\"], [0.4444444444444444, \"#bd3786\"], [0.5555555555555556, \"#d8576b\"], [0.6666666666666666, \"#ed7953\"], [0.7777777777777778, \"#fb9f3a\"], [0.8888888888888888, \"#fdca26\"], [1.0, \"#f0f921\"]], \"type\": \"heatmapgl\"}], \"histogram\": [{\"marker\": {\"colorbar\": {\"outlinewidth\": 0, \"ticks\": \"\"}}, \"type\": \"histogram\"}], \"histogram2d\": [{\"colorbar\": {\"outlinewidth\": 0, \"ticks\": \"\"}, \"colorscale\": [[0.0, \"#0d0887\"], [0.1111111111111111, \"#46039f\"], [0.2222222222222222, \"#7201a8\"], [0.3333333333333333, \"#9c179e\"], [0.4444444444444444, \"#bd3786\"], [0.5555555555555556, \"#d8576b\"], [0.6666666666666666, \"#ed7953\"], [0.7777777777777778, \"#fb9f3a\"], [0.8888888888888888, \"#fdca26\"], [1.0, \"#f0f921\"]], \"type\": \"histogram2d\"}], \"histogram2dcontour\": [{\"colorbar\": {\"outlinewidth\": 0, \"ticks\": \"\"}, \"colorscale\": [[0.0, \"#0d0887\"], [0.1111111111111111, \"#46039f\"], [0.2222222222222222, \"#7201a8\"], [0.3333333333333333, \"#9c179e\"], [0.4444444444444444, \"#bd3786\"], [0.5555555555555556, \"#d8576b\"], [0.6666666666666666, \"#ed7953\"], [0.7777777777777778, \"#fb9f3a\"], [0.8888888888888888, \"#fdca26\"], [1.0, \"#f0f921\"]], \"type\": \"histogram2dcontour\"}], \"mesh3d\": [{\"colorbar\": {\"outlinewidth\": 0, \"ticks\": \"\"}, \"type\": \"mesh3d\"}], \"parcoords\": [{\"line\": {\"colorbar\": {\"outlinewidth\": 0, \"ticks\": \"\"}}, \"type\": \"parcoords\"}], \"pie\": [{\"automargin\": true, \"type\": \"pie\"}], \"scatter\": [{\"marker\": {\"colorbar\": {\"outlinewidth\": 0, \"ticks\": \"\"}}, \"type\": \"scatter\"}], \"scatter3d\": [{\"line\": {\"colorbar\": {\"outlinewidth\": 0, \"ticks\": \"\"}}, \"marker\": {\"colorbar\": {\"outlinewidth\": 0, \"ticks\": \"\"}}, \"type\": \"scatter3d\"}], \"scattercarpet\": [{\"marker\": {\"colorbar\": {\"outlinewidth\": 0, \"ticks\": \"\"}}, \"type\": \"scattercarpet\"}], \"scattergeo\": [{\"marker\": {\"colorbar\": {\"outlinewidth\": 0, \"ticks\": \"\"}}, \"type\": \"scattergeo\"}], \"scattergl\": [{\"marker\": {\"colorbar\": {\"outlinewidth\": 0, \"ticks\": \"\"}}, \"type\": \"scattergl\"}], \"scattermapbox\": [{\"marker\": {\"colorbar\": {\"outlinewidth\": 0, \"ticks\": \"\"}}, \"type\": \"scattermapbox\"}], \"scatterpolar\": [{\"marker\": {\"colorbar\": {\"outlinewidth\": 0, \"ticks\": \"\"}}, \"type\": \"scatterpolar\"}], \"scatterpolargl\": [{\"marker\": {\"colorbar\": {\"outlinewidth\": 0, \"ticks\": \"\"}}, \"type\": \"scatterpolargl\"}], \"scatterternary\": [{\"marker\": {\"colorbar\": {\"outlinewidth\": 0, \"ticks\": \"\"}}, \"type\": \"scatterternary\"}], \"surface\": [{\"colorbar\": {\"outlinewidth\": 0, \"ticks\": \"\"}, \"colorscale\": [[0.0, \"#0d0887\"], [0.1111111111111111, \"#46039f\"], [0.2222222222222222, \"#7201a8\"], [0.3333333333333333, \"#9c179e\"], [0.4444444444444444, \"#bd3786\"], [0.5555555555555556, \"#d8576b\"], [0.6666666666666666, \"#ed7953\"], [0.7777777777777778, \"#fb9f3a\"], [0.8888888888888888, \"#fdca26\"], [1.0, \"#f0f921\"]], \"type\": \"surface\"}], \"table\": [{\"cells\": {\"fill\": {\"color\": \"#EBF0F8\"}, \"line\": {\"color\": \"white\"}}, \"header\": {\"fill\": {\"color\": \"#C8D4E3\"}, \"line\": {\"color\": \"white\"}}, \"type\": \"table\"}]}, \"layout\": {\"annotationdefaults\": {\"arrowcolor\": \"#2a3f5f\", \"arrowhead\": 0, \"arrowwidth\": 1}, \"coloraxis\": {\"colorbar\": {\"outlinewidth\": 0, \"ticks\": \"\"}}, \"colorscale\": {\"diverging\": [[0, \"#8e0152\"], [0.1, \"#c51b7d\"], [0.2, \"#de77ae\"], [0.3, \"#f1b6da\"], [0.4, \"#fde0ef\"], [0.5, \"#f7f7f7\"], [0.6, \"#e6f5d0\"], [0.7, \"#b8e186\"], [0.8, \"#7fbc41\"], [0.9, \"#4d9221\"], [1, \"#276419\"]], \"sequential\": [[0.0, \"#0d0887\"], [0.1111111111111111, \"#46039f\"], [0.2222222222222222, \"#7201a8\"], [0.3333333333333333, \"#9c179e\"], [0.4444444444444444, \"#bd3786\"], [0.5555555555555556, \"#d8576b\"], [0.6666666666666666, \"#ed7953\"], [0.7777777777777778, \"#fb9f3a\"], [0.8888888888888888, \"#fdca26\"], [1.0, \"#f0f921\"]], \"sequentialminus\": [[0.0, \"#0d0887\"], [0.1111111111111111, \"#46039f\"], [0.2222222222222222, \"#7201a8\"], [0.3333333333333333, \"#9c179e\"], [0.4444444444444444, \"#bd3786\"], [0.5555555555555556, \"#d8576b\"], [0.6666666666666666, \"#ed7953\"], [0.7777777777777778, \"#fb9f3a\"], [0.8888888888888888, \"#fdca26\"], [1.0, \"#f0f921\"]]}, \"colorway\": [\"#636efa\", \"#EF553B\", \"#00cc96\", \"#ab63fa\", \"#FFA15A\", \"#19d3f3\", \"#FF6692\", \"#B6E880\", \"#FF97FF\", \"#FECB52\"], \"font\": {\"color\": \"#2a3f5f\"}, \"geo\": {\"bgcolor\": \"white\", \"lakecolor\": \"white\", \"landcolor\": \"#E5ECF6\", \"showlakes\": true, \"showland\": true, \"subunitcolor\": \"white\"}, \"hoverlabel\": {\"align\": \"left\"}, \"hovermode\": \"closest\", \"mapbox\": {\"style\": \"light\"}, \"paper_bgcolor\": \"white\", \"plot_bgcolor\": \"#E5ECF6\", \"polar\": {\"angularaxis\": {\"gridcolor\": \"white\", \"linecolor\": \"white\", \"ticks\": \"\"}, \"bgcolor\": \"#E5ECF6\", \"radialaxis\": {\"gridcolor\": \"white\", \"linecolor\": \"white\", \"ticks\": \"\"}}, \"scene\": {\"xaxis\": {\"backgroundcolor\": \"#E5ECF6\", \"gridcolor\": \"white\", \"gridwidth\": 2, \"linecolor\": \"white\", \"showbackground\": true, \"ticks\": \"\", \"zerolinecolor\": \"white\"}, \"yaxis\": {\"backgroundcolor\": \"#E5ECF6\", \"gridcolor\": \"white\", \"gridwidth\": 2, \"linecolor\": \"white\", \"showbackground\": true, \"ticks\": \"\", \"zerolinecolor\": \"white\"}, \"zaxis\": {\"backgroundcolor\": \"#E5ECF6\", \"gridcolor\": \"white\", \"gridwidth\": 2, \"linecolor\": \"white\", \"showbackground\": true, \"ticks\": \"\", \"zerolinecolor\": \"white\"}}, \"shapedefaults\": {\"line\": {\"color\": \"#2a3f5f\"}}, \"ternary\": {\"aaxis\": {\"gridcolor\": \"white\", \"linecolor\": \"white\", \"ticks\": \"\"}, \"baxis\": {\"gridcolor\": \"white\", \"linecolor\": \"white\", \"ticks\": \"\"}, \"bgcolor\": \"#E5ECF6\", \"caxis\": {\"gridcolor\": \"white\", \"linecolor\": \"white\", \"ticks\": \"\"}}, \"title\": {\"x\": 0.05}, \"xaxis\": {\"automargin\": true, \"gridcolor\": \"white\", \"linecolor\": \"white\", \"ticks\": \"\", \"title\": {\"standoff\": 15}, \"zerolinecolor\": \"white\", \"zerolinewidth\": 2}, \"yaxis\": {\"automargin\": true, \"gridcolor\": \"white\", \"linecolor\": \"white\", \"ticks\": \"\", \"title\": {\"standoff\": 15}, \"zerolinecolor\": \"white\", \"zerolinewidth\": 2}}}, \"title\": {\"font\": {\"color\": \"#4D5663\"}}, \"xaxis\": {\"gridcolor\": \"#E1E5ED\", \"showgrid\": true, \"tickfont\": {\"color\": \"#4D5663\"}, \"title\": {\"font\": {\"color\": \"#4D5663\"}, \"text\": \"Length of Membership\"}, \"zerolinecolor\": \"#E1E5ED\"}, \"yaxis\": {\"gridcolor\": \"#E1E5ED\", \"showgrid\": true, \"tickfont\": {\"color\": \"#4D5663\"}, \"title\": {\"font\": {\"color\": \"#4D5663\"}, \"text\": \"Yearly Amount Spent\"}, \"zerolinecolor\": \"#E1E5ED\"}},                        {\"showLink\": true, \"linkText\": \"Export to plot.ly\", \"plotlyServerURL\": \"https://plot.ly\", \"responsive\": true}                    ).then(function(){\n",
       "                            \n",
       "var gd = document.getElementById('07b02c14-9252-4717-9dda-2b659f2a4d8d');\n",
       "var x = new MutationObserver(function (mutations, observer) {{\n",
       "        var display = window.getComputedStyle(gd).display;\n",
       "        if (!display || display === 'none') {{\n",
       "            console.log([gd, 'removed!']);\n",
       "            Plotly.purge(gd);\n",
       "            observer.disconnect();\n",
       "        }}\n",
       "}});\n",
       "\n",
       "// Listen for the removal of the full notebook cells\n",
       "var notebookContainer = gd.closest('#notebook-container');\n",
       "if (notebookContainer) {{\n",
       "    x.observe(notebookContainer, {childList: true});\n",
       "}}\n",
       "\n",
       "// Listen for the clearing of the current output cell\n",
       "var outputEl = gd.closest('.output');\n",
       "if (outputEl) {{\n",
       "    x.observe(outputEl, {childList: true});\n",
       "}}\n",
       "\n",
       "                        })                };                });            </script>        </div>"
      ]
     },
     "metadata": {},
     "output_type": "display_data"
    }
   ],
   "source": [
    "df.iplot(x='Length of Membership',y='Yearly Amount Spent',kind='scatter',mode='markers',xTitle='Length of Membership',\n",
    "         yTitle='Yearly Amount Spent')"
   ]
  },
  {
   "cell_type": "code",
   "execution_count": 14,
   "metadata": {},
   "outputs": [],
   "source": [
    "x=df[['Avg. Session Length', 'Time on App','Time on Website', 'Length of Membership']]\n",
    "y=df['Yearly Amount Spent']\n",
    "from sklearn.model_selection import train_test_split"
   ]
  },
  {
   "cell_type": "code",
   "execution_count": 15,
   "metadata": {},
   "outputs": [],
   "source": [
    "X_train, X_test, y_train, y_test = train_test_split(x, y, test_size=0.2, random_state=101)"
   ]
  },
  {
   "cell_type": "markdown",
   "metadata": {},
   "source": [
    "need to make them in to array othherwise keras wont understand"
   ]
  },
  {
   "cell_type": "code",
   "execution_count": 16,
   "metadata": {},
   "outputs": [],
   "source": [
    "X_train = X_train.values\n",
    "X_test = X_test.values"
   ]
  },
  {
   "cell_type": "code",
   "execution_count": 17,
   "metadata": {},
   "outputs": [],
   "source": [
    "y_train = y_train.values\n",
    "y_test = y_test.values"
   ]
  },
  {
   "cell_type": "code",
   "execution_count": 18,
   "metadata": {},
   "outputs": [],
   "source": [
    "from sklearn.preprocessing import MinMaxScaler"
   ]
  },
  {
   "cell_type": "code",
   "execution_count": 19,
   "metadata": {},
   "outputs": [],
   "source": [
    "scaler = MinMaxScaler()"
   ]
  },
  {
   "cell_type": "code",
   "execution_count": 20,
   "metadata": {},
   "outputs": [],
   "source": [
    "X_train = scaler.fit_transform(X_train)\n",
    "X_test = scaler.transform(X_test)"
   ]
  },
  {
   "cell_type": "markdown",
   "metadata": {},
   "source": [
    "Neural Network Model Creation"
   ]
  },
  {
   "cell_type": "code",
   "execution_count": 21,
   "metadata": {},
   "outputs": [],
   "source": [
    "from tensorflow.keras.models import Sequential"
   ]
  },
  {
   "cell_type": "code",
   "execution_count": 22,
   "metadata": {},
   "outputs": [],
   "source": [
    "from tensorflow.keras.layers import Dense"
   ]
  },
  {
   "cell_type": "code",
   "execution_count": 23,
   "metadata": {},
   "outputs": [
    {
     "data": {
      "text/plain": [
       "(400, 4)"
      ]
     },
     "execution_count": 23,
     "metadata": {},
     "output_type": "execute_result"
    }
   ],
   "source": [
    "X_train.shape"
   ]
  },
  {
   "cell_type": "code",
   "execution_count": 113,
   "metadata": {},
   "outputs": [],
   "source": [
    "model = Sequential()"
   ]
  },
  {
   "cell_type": "code",
   "execution_count": 114,
   "metadata": {},
   "outputs": [],
   "source": [
    "model.add(Dense(4,activation='relu'))\n",
    "model.add(Dense(4,activation = 'relu'))"
   ]
  },
  {
   "cell_type": "code",
   "execution_count": 115,
   "metadata": {},
   "outputs": [],
   "source": [
    "model.add(Dense(1))"
   ]
  },
  {
   "cell_type": "code",
   "execution_count": 116,
   "metadata": {},
   "outputs": [],
   "source": [
    "model.compile(optimizer='adam',loss='mse')"
   ]
  },
  {
   "cell_type": "code",
   "execution_count": 117,
   "metadata": {},
   "outputs": [
    {
     "name": "stdout",
     "output_type": "stream",
     "text": [
      "Train on 400 samples, validate on 100 samples\n",
      "Epoch 1/500\n",
      "400/400 [==============================] - 1s 2ms/sample - loss: 253494.0163 - val_loss: 267794.0175\n",
      "Epoch 2/500\n",
      "400/400 [==============================] - 0s 85us/sample - loss: 253315.7650 - val_loss: 267611.1475\n",
      "Epoch 3/500\n",
      "400/400 [==============================] - 0s 88us/sample - loss: 253142.3463 - val_loss: 267432.0775\n",
      "Epoch 4/500\n",
      "400/400 [==============================] - 0s 83us/sample - loss: 252973.2244 - val_loss: 267257.2369\n",
      "Epoch 5/500\n",
      "400/400 [==============================] - 0s 80us/sample - loss: 252808.0850 - val_loss: 267083.5538\n",
      "Epoch 6/500\n",
      "400/400 [==============================] - 0s 80us/sample - loss: 252644.2094 - val_loss: 266912.4594\n",
      "Epoch 7/500\n",
      "400/400 [==============================] - 0s 95us/sample - loss: 252483.3025 - val_loss: 266741.4213\n",
      "Epoch 8/500\n",
      "400/400 [==============================] - 0s 98us/sample - loss: 252320.7225 - val_loss: 266570.7144\n",
      "Epoch 9/500\n",
      "400/400 [==============================] - 0s 103us/sample - loss: 252158.4987 - val_loss: 266396.0662\n",
      "Epoch 10/500\n",
      "400/400 [==============================] - 0s 98us/sample - loss: 251991.1150 - val_loss: 266218.6175\n",
      "Epoch 11/500\n",
      "400/400 [==============================] - 0s 95us/sample - loss: 251821.5550 - val_loss: 266035.4012\n",
      "Epoch 12/500\n",
      "400/400 [==============================] - 0s 85us/sample - loss: 251646.5606 - val_loss: 265846.4012\n",
      "Epoch 13/500\n",
      "400/400 [==============================] - 0s 108us/sample - loss: 251465.4594 - val_loss: 265651.2806\n",
      "Epoch 14/500\n",
      "400/400 [==============================] - 0s 98us/sample - loss: 251278.7988 - val_loss: 265448.1169\n",
      "Epoch 15/500\n",
      "400/400 [==============================] - 0s 88us/sample - loss: 251081.2663 - val_loss: 265230.5187\n",
      "Epoch 16/500\n",
      "400/400 [==============================] - 0s 85us/sample - loss: 250867.5000 - val_loss: 264986.0787\n",
      "Epoch 17/500\n",
      "400/400 [==============================] - 0s 90us/sample - loss: 250623.7994 - val_loss: 264707.2706\n",
      "Epoch 18/500\n",
      "400/400 [==============================] - 0s 95us/sample - loss: 250346.0213 - val_loss: 264398.3669\n",
      "Epoch 19/500\n",
      "400/400 [==============================] - 0s 110us/sample - loss: 250041.1425 - val_loss: 264060.4587\n",
      "Epoch 20/500\n",
      "400/400 [==============================] - 0s 93us/sample - loss: 249709.6063 - val_loss: 263698.7250\n",
      "Epoch 21/500\n",
      "400/400 [==============================] - 0s 83us/sample - loss: 249357.4519 - val_loss: 263314.5625\n",
      "Epoch 22/500\n",
      "400/400 [==============================] - 0s 83us/sample - loss: 248984.7012 - val_loss: 262912.4963\n",
      "Epoch 23/500\n",
      "400/400 [==============================] - 0s 93us/sample - loss: 248598.2337 - val_loss: 262491.9938\n",
      "Epoch 24/500\n",
      "400/400 [==============================] - 0s 95us/sample - loss: 248193.6225 - val_loss: 262056.4944\n",
      "Epoch 25/500\n",
      "400/400 [==============================] - 0s 110us/sample - loss: 247772.4481 - val_loss: 261605.4600\n",
      "Epoch 26/500\n",
      "400/400 [==============================] - 0s 93us/sample - loss: 247337.3875 - val_loss: 261134.0081\n",
      "Epoch 27/500\n",
      "400/400 [==============================] - 0s 88us/sample - loss: 246881.2469 - val_loss: 260645.1787\n",
      "Epoch 28/500\n",
      "400/400 [==============================] - 0s 98us/sample - loss: 246408.8031 - val_loss: 260136.9175\n",
      "Epoch 29/500\n",
      "400/400 [==============================] - 0s 85us/sample - loss: 245915.8825 - val_loss: 259607.4513\n",
      "Epoch 30/500\n",
      "400/400 [==============================] - 0s 85us/sample - loss: 245405.4162 - val_loss: 259052.9287\n",
      "Epoch 31/500\n",
      "400/400 [==============================] - 0s 88us/sample - loss: 244868.0163 - val_loss: 258482.5537\n",
      "Epoch 32/500\n",
      "400/400 [==============================] - 0s 105us/sample - loss: 244313.2450 - val_loss: 257886.2325\n",
      "Epoch 33/500\n",
      "400/400 [==============================] - 0s 93us/sample - loss: 243737.7694 - val_loss: 257261.7087\n",
      "Epoch 34/500\n",
      "400/400 [==============================] - 0s 95us/sample - loss: 243133.8506 - val_loss: 256616.7888\n",
      "Epoch 35/500\n",
      "400/400 [==============================] - 0s 95us/sample - loss: 242512.8288 - val_loss: 255943.4119\n",
      "Epoch 36/500\n",
      "400/400 [==============================] - 0s 88us/sample - loss: 241858.9813 - val_loss: 255248.3687\n",
      "Epoch 37/500\n",
      "400/400 [==============================] - 0s 85us/sample - loss: 241186.1862 - val_loss: 254522.6437\n",
      "Epoch 38/500\n",
      "400/400 [==============================] - 0s 118us/sample - loss: 240481.9631 - val_loss: 253772.0275\n",
      "Epoch 39/500\n",
      "400/400 [==============================] - 0s 93us/sample - loss: 239754.3781 - val_loss: 252987.8294\n",
      "Epoch 40/500\n",
      "400/400 [==============================] - 0s 103us/sample - loss: 238998.3850 - val_loss: 252169.9312\n",
      "Epoch 41/500\n",
      "400/400 [==============================] - 0s 90us/sample - loss: 238207.9550 - val_loss: 251321.0394\n",
      "Epoch 42/500\n",
      "400/400 [==============================] - 0s 83us/sample - loss: 237385.9125 - val_loss: 250437.3850\n",
      "Epoch 43/500\n",
      "400/400 [==============================] - 0s 80us/sample - loss: 236532.1212 - val_loss: 249517.5663\n",
      "Epoch 44/500\n",
      "400/400 [==============================] - 0s 115us/sample - loss: 235641.8125 - val_loss: 248563.7387\n",
      "Epoch 45/500\n",
      "400/400 [==============================] - 0s 93us/sample - loss: 234717.3550 - val_loss: 247570.9406\n",
      "Epoch 46/500\n",
      "400/400 [==============================] - 0s 93us/sample - loss: 233758.7750 - val_loss: 246535.3287\n",
      "Epoch 47/500\n",
      "400/400 [==============================] - 0s 103us/sample - loss: 232754.8250 - val_loss: 245461.8269\n",
      "Epoch 48/500\n",
      "400/400 [==============================] - 0s 90us/sample - loss: 231716.4962 - val_loss: 244346.2981\n",
      "Epoch 49/500\n",
      "400/400 [==============================] - 0s 95us/sample - loss: 230637.2112 - val_loss: 243188.3337\n",
      "Epoch 50/500\n",
      "400/400 [==============================] - 0s 118us/sample - loss: 229511.8463 - val_loss: 241987.5600\n",
      "Epoch 51/500\n",
      "400/400 [==============================] - 0s 95us/sample - loss: 228352.5412 - val_loss: 240736.0694\n",
      "Epoch 52/500\n",
      "400/400 [==============================] - 0s 93us/sample - loss: 227145.6919 - val_loss: 239444.7375\n",
      "Epoch 53/500\n",
      "400/400 [==============================] - 0s 103us/sample - loss: 225899.7525 - val_loss: 238107.6806\n",
      "Epoch 54/500\n",
      "400/400 [==============================] - 0s 103us/sample - loss: 224618.7450 - val_loss: 236723.7125\n",
      "Epoch 55/500\n",
      "400/400 [==============================] - 0s 98us/sample - loss: 223286.6475 - val_loss: 235303.3650\n",
      "Epoch 56/500\n",
      "400/400 [==============================] - 0s 95us/sample - loss: 221908.0750 - val_loss: 233845.4088\n",
      "Epoch 57/500\n",
      "400/400 [==============================] - 0s 90us/sample - loss: 220504.2112 - val_loss: 232334.9700\n",
      "Epoch 58/500\n",
      "400/400 [==============================] - 0s 98us/sample - loss: 219047.8112 - val_loss: 230788.2706\n",
      "Epoch 59/500\n",
      "400/400 [==============================] - 0s 78us/sample - loss: 217562.8631 - val_loss: 229187.7175\n",
      "Epoch 60/500\n",
      "400/400 [==============================] - 0s 90us/sample - loss: 216019.6594 - val_loss: 227559.8750\n",
      "Epoch 61/500\n",
      "400/400 [==============================] - 0s 93us/sample - loss: 214458.6463 - val_loss: 225874.5363\n",
      "Epoch 62/500\n",
      "400/400 [==============================] - 0s 118us/sample - loss: 212841.8600 - val_loss: 224159.2662\n",
      "Epoch 63/500\n",
      "400/400 [==============================] - 0s 93us/sample - loss: 211187.6706 - val_loss: 222405.9425\n",
      "Epoch 64/500\n",
      "400/400 [==============================] - 0s 88us/sample - loss: 209501.1625 - val_loss: 220601.2050\n",
      "Epoch 65/500\n",
      "400/400 [==============================] - 0s 90us/sample - loss: 207773.8138 - val_loss: 218754.0500\n",
      "Epoch 66/500\n",
      "400/400 [==============================] - 0s 88us/sample - loss: 206001.3850 - val_loss: 216884.6812\n",
      "Epoch 67/500\n",
      "400/400 [==============================] - 0s 90us/sample - loss: 204200.9437 - val_loss: 214971.7675\n",
      "Epoch 68/500\n",
      "400/400 [==============================] - 0s 120us/sample - loss: 202367.0731 - val_loss: 213013.1237\n",
      "Epoch 69/500\n",
      "400/400 [==============================] - 0s 90us/sample - loss: 200492.2812 - val_loss: 211020.1275\n",
      "Epoch 70/500\n",
      "400/400 [==============================] - 0s 80us/sample - loss: 198582.5687 - val_loss: 208994.5063\n",
      "Epoch 71/500\n",
      "400/400 [==============================] - 0s 100us/sample - loss: 196644.5237 - val_loss: 206931.4200\n"
     ]
    },
    {
     "name": "stdout",
     "output_type": "stream",
     "text": [
      "Epoch 72/500\n",
      "400/400 [==============================] - 0s 90us/sample - loss: 194665.9750 - val_loss: 204844.9088\n",
      "Epoch 73/500\n",
      "400/400 [==============================] - 0s 88us/sample - loss: 192657.5550 - val_loss: 202718.4944\n",
      "Epoch 74/500\n",
      "400/400 [==============================] - 0s 118us/sample - loss: 190622.5269 - val_loss: 200550.2681\n",
      "Epoch 75/500\n",
      "400/400 [==============================] - 0s 80us/sample - loss: 188543.0363 - val_loss: 198354.7769\n",
      "Epoch 76/500\n",
      "400/400 [==============================] - 0s 80us/sample - loss: 186452.1244 - val_loss: 196119.5431\n",
      "Epoch 77/500\n",
      "400/400 [==============================] - 0s 80us/sample - loss: 184308.8913 - val_loss: 193864.3381\n",
      "Epoch 78/500\n",
      "400/400 [==============================] - 0s 85us/sample - loss: 182145.8969 - val_loss: 191579.8131\n",
      "Epoch 79/500\n",
      "400/400 [==============================] - 0s 90us/sample - loss: 179958.0800 - val_loss: 189260.9062\n",
      "Epoch 80/500\n",
      "400/400 [==============================] - 0s 78us/sample - loss: 177753.7900 - val_loss: 186891.5512\n",
      "Epoch 81/500\n",
      "400/400 [==============================] - 0s 110us/sample - loss: 175487.7581 - val_loss: 184531.3350\n",
      "Epoch 82/500\n",
      "400/400 [==============================] - ETA: 0s - loss: 171876.06 - 0s 83us/sample - loss: 173237.5800 - val_loss: 182129.5769\n",
      "Epoch 83/500\n",
      "400/400 [==============================] - 0s 80us/sample - loss: 170949.9931 - val_loss: 179716.9056\n",
      "Epoch 84/500\n",
      "400/400 [==============================] - 0s 83us/sample - loss: 168641.7038 - val_loss: 177280.3138\n",
      "Epoch 85/500\n",
      "400/400 [==============================] - 0s 83us/sample - loss: 166314.0194 - val_loss: 174811.6275\n",
      "Epoch 86/500\n",
      "400/400 [==============================] - 0s 78us/sample - loss: 163951.0287 - val_loss: 172335.5038\n",
      "Epoch 87/500\n",
      "400/400 [==============================] - 0s 108us/sample - loss: 161580.9175 - val_loss: 169832.5006\n",
      "Epoch 88/500\n",
      "400/400 [==============================] - 0s 70us/sample - loss: 159200.3687 - val_loss: 167297.2238\n",
      "Epoch 89/500\n",
      "400/400 [==============================] - 0s 83us/sample - loss: 156779.7125 - val_loss: 164767.6300\n",
      "Epoch 90/500\n",
      "400/400 [==============================] - 0s 85us/sample - loss: 154358.6063 - val_loss: 162218.0262\n",
      "Epoch 91/500\n",
      "400/400 [==============================] - 0s 83us/sample - loss: 151943.1669 - val_loss: 159622.5244\n",
      "Epoch 92/500\n",
      "400/400 [==============================] - 0s 83us/sample - loss: 149471.4912 - val_loss: 157039.1588\n",
      "Epoch 93/500\n",
      "400/400 [==============================] - 0s 83us/sample - loss: 147002.9537 - val_loss: 154450.5231\n",
      "Epoch 94/500\n",
      "400/400 [==============================] - 0s 108us/sample - loss: 144544.5488 - val_loss: 151847.6363\n",
      "Epoch 95/500\n",
      "400/400 [==============================] - 0s 90us/sample - loss: 142052.1050 - val_loss: 149241.4997\n",
      "Epoch 96/500\n",
      "400/400 [==============================] - 0s 88us/sample - loss: 139574.4644 - val_loss: 146601.5006\n",
      "Epoch 97/500\n",
      "400/400 [==============================] - 0s 93us/sample - loss: 137081.3894 - val_loss: 143960.2575\n",
      "Epoch 98/500\n",
      "400/400 [==============================] - 0s 78us/sample - loss: 134560.8513 - val_loss: 141337.5844\n",
      "Epoch 99/500\n",
      "400/400 [==============================] - 0s 75us/sample - loss: 132063.2844 - val_loss: 138700.6069\n",
      "Epoch 100/500\n",
      "400/400 [==============================] - 0s 83us/sample - loss: 129552.0244 - val_loss: 136059.4725\n",
      "Epoch 101/500\n",
      "400/400 [==============================] - 0s 118us/sample - loss: 127042.9197 - val_loss: 133390.3894\n",
      "Epoch 102/500\n",
      "400/400 [==============================] - 0s 78us/sample - loss: 124505.1491 - val_loss: 130711.5822\n",
      "Epoch 103/500\n",
      "400/400 [==============================] - 0s 85us/sample - loss: 121929.2794 - val_loss: 128007.1028\n",
      "Epoch 104/500\n",
      "400/400 [==============================] - 0s 80us/sample - loss: 119339.7019 - val_loss: 125203.6275\n",
      "Epoch 105/500\n",
      "400/400 [==============================] - 0s 80us/sample - loss: 116663.7659 - val_loss: 122361.4406\n",
      "Epoch 106/500\n",
      "400/400 [==============================] - 0s 78us/sample - loss: 113944.1631 - val_loss: 119492.9088\n",
      "Epoch 107/500\n",
      "400/400 [==============================] - 0s 103us/sample - loss: 111200.1250 - val_loss: 116593.3991\n",
      "Epoch 108/500\n",
      "400/400 [==============================] - 0s 70us/sample - loss: 108440.8406 - val_loss: 113678.7778\n",
      "Epoch 109/500\n",
      "400/400 [==============================] - 0s 83us/sample - loss: 105677.7925 - val_loss: 110742.2931\n",
      "Epoch 110/500\n",
      "400/400 [==============================] - 0s 83us/sample - loss: 102899.1381 - val_loss: 107813.2325\n",
      "Epoch 111/500\n",
      "400/400 [==============================] - 0s 83us/sample - loss: 100109.6184 - val_loss: 104908.9644\n",
      "Epoch 112/500\n",
      "400/400 [==============================] - 0s 85us/sample - loss: 97359.2194 - val_loss: 101970.4512\n",
      "Epoch 113/500\n",
      "400/400 [==============================] - 0s 85us/sample - loss: 94578.3456 - val_loss: 99075.7400\n",
      "Epoch 114/500\n",
      "400/400 [==============================] - 0s 110us/sample - loss: 91837.5772 - val_loss: 96197.2672\n",
      "Epoch 115/500\n",
      "400/400 [==============================] - 0s 80us/sample - loss: 89109.8319 - val_loss: 93335.4037\n",
      "Epoch 116/500\n",
      "400/400 [==============================] - 0s 83us/sample - loss: 86401.6219 - val_loss: 90497.3816\n",
      "Epoch 117/500\n",
      "400/400 [==============================] - 0s 95us/sample - loss: 83715.4469 - val_loss: 87691.0591\n",
      "Epoch 118/500\n",
      "400/400 [==============================] - 0s 90us/sample - loss: 81059.4809 - val_loss: 84916.4609\n",
      "Epoch 119/500\n",
      "400/400 [==============================] - 0s 88us/sample - loss: 78440.8244 - val_loss: 82152.4891\n",
      "Epoch 120/500\n",
      "400/400 [==============================] - 0s 90us/sample - loss: 75837.6150 - val_loss: 79432.7517\n",
      "Epoch 121/500\n",
      "400/400 [==============================] - 0s 103us/sample - loss: 73272.9500 - val_loss: 76749.3255\n",
      "Epoch 122/500\n",
      "400/400 [==============================] - 0s 80us/sample - loss: 70738.7453 - val_loss: 74107.7530\n",
      "Epoch 123/500\n",
      "400/400 [==============================] - 0s 90us/sample - loss: 68254.7912 - val_loss: 71515.8769\n",
      "Epoch 124/500\n",
      "400/400 [==============================] - 0s 95us/sample - loss: 65806.5119 - val_loss: 68961.3533\n",
      "Epoch 125/500\n",
      "400/400 [==============================] - 0s 88us/sample - loss: 63413.6791 - val_loss: 66442.0381\n",
      "Epoch 126/500\n",
      "400/400 [==============================] - 0s 73us/sample - loss: 61043.1600 - val_loss: 63983.8763\n",
      "Epoch 127/500\n",
      "400/400 [==============================] - 0s 113us/sample - loss: 58734.9927 - val_loss: 61560.8913\n",
      "Epoch 128/500\n",
      "400/400 [==============================] - 0s 83us/sample - loss: 56455.8789 - val_loss: 59197.7794\n",
      "Epoch 129/500\n",
      "400/400 [==============================] - 0s 93us/sample - loss: 54242.8687 - val_loss: 56878.3130\n",
      "Epoch 130/500\n",
      "400/400 [==============================] - 0s 88us/sample - loss: 52063.8328 - val_loss: 54612.0837\n",
      "Epoch 131/500\n",
      "400/400 [==============================] - 0s 78us/sample - loss: 49929.7433 - val_loss: 52413.1264\n",
      "Epoch 132/500\n",
      "400/400 [==============================] - 0s 83us/sample - loss: 47866.0634 - val_loss: 50255.6977\n",
      "Epoch 133/500\n",
      "400/400 [==============================] - 0s 90us/sample - loss: 45845.9948 - val_loss: 48147.0581\n",
      "Epoch 134/500\n",
      "400/400 [==============================] - 0s 98us/sample - loss: 43872.4731 - val_loss: 46091.1972\n",
      "Epoch 135/500\n",
      "400/400 [==============================] - 0s 90us/sample - loss: 41945.8781 - val_loss: 44100.2288\n",
      "Epoch 136/500\n",
      "400/400 [==============================] - 0s 90us/sample - loss: 40089.1578 - val_loss: 42151.0805\n",
      "Epoch 137/500\n",
      "400/400 [==============================] - 0s 90us/sample - loss: 38269.2045 - val_loss: 40267.3164\n",
      "Epoch 138/500\n",
      "400/400 [==============================] - 0s 83us/sample - loss: 36516.6241 - val_loss: 38435.1438\n",
      "Epoch 139/500\n",
      "400/400 [==============================] - 0s 93us/sample - loss: 34819.3656 - val_loss: 36676.6236\n",
      "Epoch 140/500\n",
      "400/400 [==============================] - 0s 95us/sample - loss: 33171.5165 - val_loss: 34976.4443\n",
      "Epoch 141/500\n",
      "400/400 [==============================] - 0s 83us/sample - loss: 31585.2964 - val_loss: 33325.2808\n",
      "Epoch 142/500\n",
      "400/400 [==============================] - 0s 85us/sample - loss: 30043.3483 - val_loss: 31734.8969\n",
      "Epoch 143/500\n"
     ]
    },
    {
     "name": "stdout",
     "output_type": "stream",
     "text": [
      "400/400 [==============================] - 0s 80us/sample - loss: 28560.1527 - val_loss: 30199.7444\n",
      "Epoch 144/500\n",
      "400/400 [==============================] - 0s 80us/sample - loss: 27142.5883 - val_loss: 28707.2238\n",
      "Epoch 145/500\n",
      "400/400 [==============================] - 0s 93us/sample - loss: 25748.1422 - val_loss: 27290.4051\n",
      "Epoch 146/500\n",
      "400/400 [==============================] - 0s 118us/sample - loss: 24430.2931 - val_loss: 25918.9885\n",
      "Epoch 147/500\n",
      "400/400 [==============================] - 0s 73us/sample - loss: 23161.4467 - val_loss: 24601.0013\n",
      "Epoch 148/500\n",
      "400/400 [==============================] - 0s 80us/sample - loss: 21932.9135 - val_loss: 23354.5848\n",
      "Epoch 149/500\n",
      "400/400 [==============================] - 0s 80us/sample - loss: 20768.8364 - val_loss: 22134.1360\n",
      "Epoch 150/500\n",
      "400/400 [==============================] - 0s 88us/sample - loss: 19651.3527 - val_loss: 20952.9277\n",
      "Epoch 151/500\n",
      "400/400 [==============================] - 0s 80us/sample - loss: 18552.7868 - val_loss: 19860.1612\n",
      "Epoch 152/500\n",
      "400/400 [==============================] - 0s 85us/sample - loss: 17543.6677 - val_loss: 18798.8080\n",
      "Epoch 153/500\n",
      "400/400 [==============================] - 0s 98us/sample - loss: 16575.3622 - val_loss: 17778.9682\n",
      "Epoch 154/500\n",
      "400/400 [==============================] - 0s 80us/sample - loss: 15636.9068 - val_loss: 16822.1036\n",
      "Epoch 155/500\n",
      "400/400 [==============================] - 0s 83us/sample - loss: 14759.8186 - val_loss: 15914.3872\n",
      "Epoch 156/500\n",
      "400/400 [==============================] - 0s 93us/sample - loss: 13919.6069 - val_loss: 15066.4223\n",
      "Epoch 157/500\n",
      "400/400 [==============================] - 0s 75us/sample - loss: 13133.4919 - val_loss: 14246.7123\n",
      "Epoch 158/500\n",
      "400/400 [==============================] - 0s 78us/sample - loss: 12386.1316 - val_loss: 13465.5786\n",
      "Epoch 159/500\n",
      "400/400 [==============================] - 0s 80us/sample - loss: 11668.0729 - val_loss: 12737.3685\n",
      "Epoch 160/500\n",
      "400/400 [==============================] - 0s 110us/sample - loss: 11000.0446 - val_loss: 12045.4485\n",
      "Epoch 161/500\n",
      "400/400 [==============================] - 0s 78us/sample - loss: 10367.7677 - val_loss: 11389.3517\n",
      "Epoch 162/500\n",
      "400/400 [==============================] - 0s 85us/sample - loss: 9772.2972 - val_loss: 10772.0181\n",
      "Epoch 163/500\n",
      "400/400 [==============================] - 0s 85us/sample - loss: 9210.1355 - val_loss: 10196.6666\n",
      "Epoch 164/500\n",
      "400/400 [==============================] - 0s 83us/sample - loss: 8690.0974 - val_loss: 9656.0721\n",
      "Epoch 165/500\n",
      "400/400 [==============================] - 0s 80us/sample - loss: 8199.1617 - val_loss: 9148.0344\n",
      "Epoch 166/500\n",
      "400/400 [==============================] - 0s 85us/sample - loss: 7736.1451 - val_loss: 8674.1063\n",
      "Epoch 167/500\n",
      "400/400 [==============================] - 0s 98us/sample - loss: 7299.2250 - val_loss: 8236.9638\n",
      "Epoch 168/500\n",
      "400/400 [==============================] - 0s 78us/sample - loss: 6901.6885 - val_loss: 7815.9136\n",
      "Epoch 169/500\n",
      "400/400 [==============================] - 0s 85us/sample - loss: 6521.8596 - val_loss: 7425.3063\n",
      "Epoch 170/500\n",
      "400/400 [==============================] - 0s 83us/sample - loss: 6175.2981 - val_loss: 7062.2312\n",
      "Epoch 171/500\n",
      "400/400 [==============================] - 0s 83us/sample - loss: 5843.4036 - val_loss: 6730.4576\n",
      "Epoch 172/500\n",
      "400/400 [==============================] - 0s 83us/sample - loss: 5545.2181 - val_loss: 6411.0965\n",
      "Epoch 173/500\n",
      "400/400 [==============================] - 0s 90us/sample - loss: 5258.9068 - val_loss: 6119.9131\n",
      "Epoch 174/500\n",
      "400/400 [==============================] - 0s 95us/sample - loss: 4998.8089 - val_loss: 5850.2507\n",
      "Epoch 175/500\n",
      "400/400 [==============================] - 0s 78us/sample - loss: 4756.5526 - val_loss: 5600.0170\n",
      "Epoch 176/500\n",
      "400/400 [==============================] - 0s 85us/sample - loss: 4534.3285 - val_loss: 5365.3298\n",
      "Epoch 177/500\n",
      "400/400 [==============================] - 0s 85us/sample - loss: 4325.8497 - val_loss: 5154.6327\n",
      "Epoch 178/500\n",
      "400/400 [==============================] - 0s 90us/sample - loss: 4138.1952 - val_loss: 4953.5370\n",
      "Epoch 179/500\n",
      "400/400 [==============================] - 0s 83us/sample - loss: 3958.0732 - val_loss: 4772.6194\n",
      "Epoch 180/500\n",
      "400/400 [==============================] - 0s 108us/sample - loss: 3799.9372 - val_loss: 4604.5001\n",
      "Epoch 181/500\n",
      "400/400 [==============================] - 0s 80us/sample - loss: 3651.5425 - val_loss: 4452.8991\n",
      "Epoch 182/500\n",
      "400/400 [==============================] - 0s 90us/sample - loss: 3520.9307 - val_loss: 4308.0164\n",
      "Epoch 183/500\n",
      "400/400 [==============================] - 0s 85us/sample - loss: 3395.2228 - val_loss: 4181.9981\n",
      "Epoch 184/500\n",
      "400/400 [==============================] - 0s 88us/sample - loss: 3282.9119 - val_loss: 4067.0582\n",
      "Epoch 185/500\n",
      "400/400 [==============================] - 0s 78us/sample - loss: 3181.1464 - val_loss: 3962.6021\n",
      "Epoch 186/500\n",
      "400/400 [==============================] - 0s 108us/sample - loss: 3090.1853 - val_loss: 3862.0153\n",
      "Epoch 187/500\n",
      "400/400 [==============================] - 0s 75us/sample - loss: 3005.1560 - val_loss: 3772.1908\n",
      "Epoch 188/500\n",
      "400/400 [==============================] - 0s 83us/sample - loss: 2926.6890 - val_loss: 3693.8712\n",
      "Epoch 189/500\n",
      "400/400 [==============================] - 0s 93us/sample - loss: 2861.4156 - val_loss: 3618.2145\n",
      "Epoch 190/500\n",
      "400/400 [==============================] - 0s 83us/sample - loss: 2795.4152 - val_loss: 3553.6090\n",
      "Epoch 191/500\n",
      "400/400 [==============================] - 0s 80us/sample - loss: 2738.8056 - val_loss: 3492.3518\n",
      "Epoch 192/500\n",
      "400/400 [==============================] - 0s 83us/sample - loss: 2688.4825 - val_loss: 3434.9580\n",
      "Epoch 193/500\n",
      "400/400 [==============================] - 0s 108us/sample - loss: 2641.9151 - val_loss: 3382.8667\n",
      "Epoch 194/500\n",
      "400/400 [==============================] - 0s 78us/sample - loss: 2597.4629 - val_loss: 3339.1815\n",
      "Epoch 195/500\n",
      "400/400 [==============================] - 0s 83us/sample - loss: 2560.0955 - val_loss: 3297.3598\n",
      "Epoch 196/500\n",
      "400/400 [==============================] - 0s 90us/sample - loss: 2525.7180 - val_loss: 3258.2549\n",
      "Epoch 197/500\n",
      "400/400 [==============================] - 0s 83us/sample - loss: 2493.1925 - val_loss: 3225.4986\n",
      "Epoch 198/500\n",
      "400/400 [==============================] - 0s 80us/sample - loss: 2468.3972 - val_loss: 3191.8014\n",
      "Epoch 199/500\n",
      "400/400 [==============================] - 0s 108us/sample - loss: 2440.6609 - val_loss: 3166.1884\n",
      "Epoch 200/500\n",
      "400/400 [==============================] - 0s 88us/sample - loss: 2419.3667 - val_loss: 3140.4360\n",
      "Epoch 201/500\n",
      "400/400 [==============================] - 0s 75us/sample - loss: 2397.1092 - val_loss: 3119.6665\n",
      "Epoch 202/500\n",
      "400/400 [==============================] - 0s 85us/sample - loss: 2380.5569 - val_loss: 3098.0253\n",
      "Epoch 203/500\n",
      "400/400 [==============================] - 0s 85us/sample - loss: 2364.4405 - val_loss: 3078.2796\n",
      "Epoch 204/500\n",
      "400/400 [==============================] - 0s 88us/sample - loss: 2348.8274 - val_loss: 3061.6510\n",
      "Epoch 205/500\n",
      "400/400 [==============================] - 0s 88us/sample - loss: 2335.4906 - val_loss: 3046.0101\n",
      "Epoch 206/500\n",
      "400/400 [==============================] - 0s 130us/sample - loss: 2323.4726 - val_loss: 3031.6536\n",
      "Epoch 207/500\n",
      "400/400 [==============================] - 0s 105us/sample - loss: 2312.7390 - val_loss: 3017.7118\n",
      "Epoch 208/500\n",
      "400/400 [==============================] - 0s 105us/sample - loss: 2302.7681 - val_loss: 3005.3060\n",
      "Epoch 209/500\n",
      "400/400 [==============================] - 0s 103us/sample - loss: 2292.9289 - val_loss: 2994.8223\n",
      "Epoch 210/500\n",
      "400/400 [==============================] - 0s 110us/sample - loss: 2285.4070 - val_loss: 2984.2287\n",
      "Epoch 211/500\n",
      "400/400 [==============================] - 0s 140us/sample - loss: 2277.6148 - val_loss: 2975.4654\n",
      "Epoch 212/500\n",
      "400/400 [==============================] - 0s 100us/sample - loss: 2270.9142 - val_loss: 2967.1473\n",
      "Epoch 213/500\n",
      "400/400 [==============================] - 0s 105us/sample - loss: 2264.5044 - val_loss: 2958.6493\n",
      "Epoch 214/500\n",
      "400/400 [==============================] - 0s 120us/sample - loss: 2258.6876 - val_loss: 2950.7686\n",
      "Epoch 215/500\n",
      "400/400 [==============================] - 0s 113us/sample - loss: 2253.7748 - val_loss: 2943.1814\n"
     ]
    },
    {
     "name": "stdout",
     "output_type": "stream",
     "text": [
      "Epoch 216/500\n",
      "400/400 [==============================] - 0s 138us/sample - loss: 2248.8933 - val_loss: 2936.6475\n",
      "Epoch 217/500\n",
      "400/400 [==============================] - 0s 105us/sample - loss: 2244.3543 - val_loss: 2931.0686\n",
      "Epoch 218/500\n",
      "400/400 [==============================] - 0s 93us/sample - loss: 2240.0800 - val_loss: 2926.0026\n",
      "Epoch 219/500\n",
      "400/400 [==============================] - 0s 90us/sample - loss: 2236.8403 - val_loss: 2920.5449\n",
      "Epoch 220/500\n",
      "400/400 [==============================] - 0s 83us/sample - loss: 2232.7933 - val_loss: 2915.6425\n",
      "Epoch 221/500\n",
      "400/400 [==============================] - 0s 90us/sample - loss: 2229.2278 - val_loss: 2910.9513\n",
      "Epoch 222/500\n",
      "400/400 [==============================] - 0s 103us/sample - loss: 2226.1934 - val_loss: 2906.0120\n",
      "Epoch 223/500\n",
      "400/400 [==============================] - 0s 88us/sample - loss: 2222.5100 - val_loss: 2901.7595\n",
      "Epoch 224/500\n",
      "400/400 [==============================] - 0s 95us/sample - loss: 2219.5791 - val_loss: 2897.3016\n",
      "Epoch 225/500\n",
      "400/400 [==============================] - 0s 73us/sample - loss: 2216.4771 - val_loss: 2893.1868\n",
      "Epoch 226/500\n",
      "400/400 [==============================] - 0s 88us/sample - loss: 2213.4037 - val_loss: 2888.8096\n",
      "Epoch 227/500\n",
      "400/400 [==============================] - 0s 83us/sample - loss: 2210.4774 - val_loss: 2884.5723\n",
      "Epoch 228/500\n",
      "400/400 [==============================] - 0s 85us/sample - loss: 2207.5512 - val_loss: 2880.4159\n",
      "Epoch 229/500\n",
      "400/400 [==============================] - 0s 100us/sample - loss: 2204.8241 - val_loss: 2876.4128\n",
      "Epoch 230/500\n",
      "400/400 [==============================] - 0s 78us/sample - loss: 2202.0633 - val_loss: 2872.6415\n",
      "Epoch 231/500\n",
      "400/400 [==============================] - 0s 140us/sample - loss: 2199.4275 - val_loss: 2869.0224\n",
      "Epoch 232/500\n",
      "400/400 [==============================] - 0s 113us/sample - loss: 2197.1182 - val_loss: 2865.0046\n",
      "Epoch 233/500\n",
      "400/400 [==============================] - 0s 105us/sample - loss: 2194.2023 - val_loss: 2861.7165\n",
      "Epoch 234/500\n",
      "400/400 [==============================] - 0s 130us/sample - loss: 2192.0180 - val_loss: 2857.7254\n",
      "Epoch 235/500\n",
      "400/400 [==============================] - 0s 113us/sample - loss: 2189.1708 - val_loss: 2854.6690\n",
      "Epoch 236/500\n",
      "400/400 [==============================] - 0s 105us/sample - loss: 2186.7238 - val_loss: 2850.9026\n",
      "Epoch 237/500\n",
      "400/400 [==============================] - 0s 88us/sample - loss: 2184.1320 - val_loss: 2847.2602\n",
      "Epoch 238/500\n",
      "400/400 [==============================] - 0s 105us/sample - loss: 2181.4967 - val_loss: 2843.8619\n",
      "Epoch 239/500\n",
      "400/400 [==============================] - 0s 90us/sample - loss: 2179.0191 - val_loss: 2840.5130\n",
      "Epoch 240/500\n",
      "400/400 [==============================] - 0s 100us/sample - loss: 2176.6358 - val_loss: 2837.0092\n",
      "Epoch 241/500\n",
      "400/400 [==============================] - 0s 105us/sample - loss: 2174.0830 - val_loss: 2833.5383\n",
      "Epoch 242/500\n",
      "400/400 [==============================] - 0s 85us/sample - loss: 2171.5450 - val_loss: 2830.0993\n",
      "Epoch 243/500\n",
      "400/400 [==============================] - 0s 103us/sample - loss: 2169.2028 - val_loss: 2826.3792\n",
      "Epoch 244/500\n",
      "400/400 [==============================] - 0s 83us/sample - loss: 2166.4893 - val_loss: 2823.1092\n",
      "Epoch 245/500\n",
      "400/400 [==============================] - 0s 78us/sample - loss: 2164.0261 - val_loss: 2819.8653\n",
      "Epoch 246/500\n",
      "400/400 [==============================] - 0s 80us/sample - loss: 2161.3199 - val_loss: 2816.2826\n",
      "Epoch 247/500\n",
      "400/400 [==============================] - 0s 118us/sample - loss: 2158.7952 - val_loss: 2812.6702\n",
      "Epoch 248/500\n",
      "400/400 [==============================] - 0s 103us/sample - loss: 2155.9989 - val_loss: 2808.8340\n",
      "Epoch 249/500\n",
      "400/400 [==============================] - 0s 93us/sample - loss: 2153.5423 - val_loss: 2805.0889\n",
      "Epoch 250/500\n",
      "400/400 [==============================] - 0s 93us/sample - loss: 2150.9209 - val_loss: 2801.6348\n",
      "Epoch 251/500\n",
      "400/400 [==============================] - 0s 95us/sample - loss: 2148.2842 - val_loss: 2797.9159\n",
      "Epoch 252/500\n",
      "400/400 [==============================] - 0s 98us/sample - loss: 2145.5119 - val_loss: 2794.2199\n",
      "Epoch 253/500\n",
      "400/400 [==============================] - 0s 115us/sample - loss: 2142.8712 - val_loss: 2790.5914\n",
      "Epoch 254/500\n",
      "400/400 [==============================] - 0s 90us/sample - loss: 2140.3923 - val_loss: 2787.1615\n",
      "Epoch 255/500\n",
      "400/400 [==============================] - 0s 90us/sample - loss: 2137.6284 - val_loss: 2783.5529\n",
      "Epoch 256/500\n",
      "400/400 [==============================] - 0s 98us/sample - loss: 2135.1006 - val_loss: 2780.0343\n",
      "Epoch 257/500\n",
      "400/400 [==============================] - 0s 95us/sample - loss: 2132.3100 - val_loss: 2776.4436\n",
      "Epoch 258/500\n",
      "400/400 [==============================] - 0s 113us/sample - loss: 2129.6620 - val_loss: 2772.8286\n",
      "Epoch 259/500\n",
      "400/400 [==============================] - 0s 120us/sample - loss: 2126.7545 - val_loss: 2769.0738\n",
      "Epoch 260/500\n",
      "400/400 [==============================] - 0s 95us/sample - loss: 2124.1170 - val_loss: 2765.5672\n",
      "Epoch 261/500\n",
      "400/400 [==============================] - 0s 100us/sample - loss: 2121.3570 - val_loss: 2761.7179\n",
      "Epoch 262/500\n",
      "400/400 [==============================] - 0s 95us/sample - loss: 2118.6402 - val_loss: 2758.0839\n",
      "Epoch 263/500\n",
      "400/400 [==============================] - 0s 100us/sample - loss: 2116.1998 - val_loss: 2754.5844\n",
      "Epoch 264/500\n",
      "400/400 [==============================] - 0s 130us/sample - loss: 2113.6048 - val_loss: 2750.5018\n",
      "Epoch 265/500\n",
      "400/400 [==============================] - 0s 153us/sample - loss: 2110.4170 - val_loss: 2746.7059\n",
      "Epoch 266/500\n",
      "400/400 [==============================] - 0s 120us/sample - loss: 2107.6555 - val_loss: 2743.0662\n",
      "Epoch 267/500\n",
      "400/400 [==============================] - 0s 103us/sample - loss: 2104.8657 - val_loss: 2739.4493\n",
      "Epoch 268/500\n",
      "400/400 [==============================] - 0s 103us/sample - loss: 2102.0520 - val_loss: 2735.8115\n",
      "Epoch 269/500\n",
      "400/400 [==============================] - 0s 88us/sample - loss: 2099.1537 - val_loss: 2732.0372\n",
      "Epoch 270/500\n",
      "400/400 [==============================] - 0s 113us/sample - loss: 2096.6381 - val_loss: 2727.9591\n",
      "Epoch 271/500\n",
      "400/400 [==============================] - 0s 125us/sample - loss: 2093.6097 - val_loss: 2724.2450\n",
      "Epoch 272/500\n",
      "400/400 [==============================] - 0s 93us/sample - loss: 2090.8026 - val_loss: 2720.2806\n",
      "Epoch 273/500\n",
      "400/400 [==============================] - 0s 105us/sample - loss: 2087.9160 - val_loss: 2716.5820\n",
      "Epoch 274/500\n",
      "400/400 [==============================] - 0s 90us/sample - loss: 2084.8579 - val_loss: 2712.5943\n",
      "Epoch 275/500\n",
      "400/400 [==============================] - 0s 108us/sample - loss: 2081.8856 - val_loss: 2709.0495\n",
      "Epoch 276/500\n",
      "400/400 [==============================] - 0s 128us/sample - loss: 2079.1978 - val_loss: 2704.8926\n",
      "Epoch 277/500\n",
      "400/400 [==============================] - 0s 90us/sample - loss: 2076.1659 - val_loss: 2701.3988\n",
      "Epoch 278/500\n",
      "400/400 [==============================] - 0s 103us/sample - loss: 2072.9614 - val_loss: 2697.3937\n",
      "Epoch 279/500\n",
      "400/400 [==============================] - 0s 98us/sample - loss: 2070.1133 - val_loss: 2693.2096\n",
      "Epoch 280/500\n",
      "400/400 [==============================] - 0s 103us/sample - loss: 2066.9293 - val_loss: 2689.2024\n",
      "Epoch 281/500\n",
      "400/400 [==============================] - 0s 103us/sample - loss: 2064.0610 - val_loss: 2685.2790\n",
      "Epoch 282/500\n",
      "400/400 [==============================] - 0s 118us/sample - loss: 2060.9650 - val_loss: 2681.2254\n",
      "Epoch 283/500\n",
      "400/400 [==============================] - 0s 95us/sample - loss: 2058.1222 - val_loss: 2677.3064\n",
      "Epoch 284/500\n",
      "400/400 [==============================] - 0s 103us/sample - loss: 2054.7668 - val_loss: 2673.2560\n",
      "Epoch 285/500\n",
      "400/400 [==============================] - 0s 110us/sample - loss: 2052.5992 - val_loss: 2668.6123\n",
      "Epoch 286/500\n",
      "400/400 [==============================] - 0s 95us/sample - loss: 2048.6195 - val_loss: 2664.7579\n",
      "Epoch 287/500\n",
      "400/400 [==============================] - 0s 98us/sample - loss: 2045.4784 - val_loss: 2661.1044\n",
      "Epoch 288/500\n",
      "400/400 [==============================] - 0s 120us/sample - loss: 2042.6908 - val_loss: 2657.2997\n"
     ]
    },
    {
     "name": "stdout",
     "output_type": "stream",
     "text": [
      "Epoch 289/500\n",
      "400/400 [==============================] - 0s 108us/sample - loss: 2039.3595 - val_loss: 2653.0239\n",
      "Epoch 290/500\n",
      "400/400 [==============================] - 0s 93us/sample - loss: 2036.2181 - val_loss: 2648.8497\n",
      "Epoch 291/500\n",
      "400/400 [==============================] - 0s 98us/sample - loss: 2033.0154 - val_loss: 2644.1756\n",
      "Epoch 292/500\n",
      "400/400 [==============================] - 0s 88us/sample - loss: 2030.2649 - val_loss: 2640.4699\n",
      "Epoch 293/500\n",
      "400/400 [==============================] - 0s 85us/sample - loss: 2027.1154 - val_loss: 2635.5785\n",
      "Epoch 294/500\n",
      "400/400 [==============================] - 0s 95us/sample - loss: 2023.8916 - val_loss: 2630.9978\n",
      "Epoch 295/500\n",
      "400/400 [==============================] - 0s 115us/sample - loss: 2020.7629 - val_loss: 2627.1629\n",
      "Epoch 296/500\n",
      "400/400 [==============================] - 0s 85us/sample - loss: 2017.0407 - val_loss: 2622.5699\n",
      "Epoch 297/500\n",
      "400/400 [==============================] - 0s 88us/sample - loss: 2014.5984 - val_loss: 2617.6515\n",
      "Epoch 298/500\n",
      "400/400 [==============================] - 0s 88us/sample - loss: 2010.4208 - val_loss: 2613.3726\n",
      "Epoch 299/500\n",
      "400/400 [==============================] - 0s 128us/sample - loss: 2007.0058 - val_loss: 2609.3188\n",
      "Epoch 300/500\n",
      "400/400 [==============================] - 0s 155us/sample - loss: 2003.7311 - val_loss: 2605.0829\n",
      "Epoch 301/500\n",
      "400/400 [==============================] - 0s 95us/sample - loss: 2000.4992 - val_loss: 2600.6285\n",
      "Epoch 302/500\n",
      "400/400 [==============================] - 0s 93us/sample - loss: 1997.1792 - val_loss: 2596.0879\n",
      "Epoch 303/500\n",
      "400/400 [==============================] - 0s 88us/sample - loss: 1993.7430 - val_loss: 2591.9042\n",
      "Epoch 304/500\n",
      "400/400 [==============================] - 0s 110us/sample - loss: 1990.4230 - val_loss: 2587.5405\n",
      "Epoch 305/500\n",
      "400/400 [==============================] - 0s 88us/sample - loss: 1986.9692 - val_loss: 2583.3966\n",
      "Epoch 306/500\n",
      "400/400 [==============================] - 0s 128us/sample - loss: 1983.9685 - val_loss: 2578.7125\n",
      "Epoch 307/500\n",
      "400/400 [==============================] - 0s 88us/sample - loss: 1980.2975 - val_loss: 2574.2124\n",
      "Epoch 308/500\n",
      "400/400 [==============================] - 0s 93us/sample - loss: 1976.8473 - val_loss: 2569.8384\n",
      "Epoch 309/500\n",
      "400/400 [==============================] - 0s 105us/sample - loss: 1973.5392 - val_loss: 2565.7126\n",
      "Epoch 310/500\n",
      "400/400 [==============================] - 0s 95us/sample - loss: 1970.1249 - val_loss: 2560.7647\n",
      "Epoch 311/500\n",
      "400/400 [==============================] - 0s 100us/sample - loss: 1966.6161 - val_loss: 2556.0109\n",
      "Epoch 312/500\n",
      "400/400 [==============================] - 0s 125us/sample - loss: 1963.0661 - val_loss: 2551.5467\n",
      "Epoch 313/500\n",
      "400/400 [==============================] - 0s 105us/sample - loss: 1959.7517 - val_loss: 2546.8405\n",
      "Epoch 314/500\n",
      "400/400 [==============================] - 0s 88us/sample - loss: 1956.1196 - val_loss: 2542.5842\n",
      "Epoch 315/500\n",
      "400/400 [==============================] - 0s 103us/sample - loss: 1952.7702 - val_loss: 2537.6687\n",
      "Epoch 316/500\n",
      "400/400 [==============================] - 0s 85us/sample - loss: 1949.3023 - val_loss: 2533.3264\n",
      "Epoch 317/500\n",
      "400/400 [==============================] - 0s 88us/sample - loss: 1945.7014 - val_loss: 2528.1227\n",
      "Epoch 318/500\n",
      "400/400 [==============================] - 0s 133us/sample - loss: 1942.8504 - val_loss: 2523.0750\n",
      "Epoch 319/500\n",
      "400/400 [==============================] - 0s 90us/sample - loss: 1938.3356 - val_loss: 2519.0092\n",
      "Epoch 320/500\n",
      "400/400 [==============================] - 0s 93us/sample - loss: 1934.8883 - val_loss: 2514.0646\n",
      "Epoch 321/500\n",
      "400/400 [==============================] - 0s 95us/sample - loss: 1931.1684 - val_loss: 2509.1935\n",
      "Epoch 322/500\n",
      "400/400 [==============================] - 0s 103us/sample - loss: 1927.5573 - val_loss: 2504.1662\n",
      "Epoch 323/500\n",
      "400/400 [==============================] - 0s 115us/sample - loss: 1924.1519 - val_loss: 2499.1753\n",
      "Epoch 324/500\n",
      "400/400 [==============================] - 0s 128us/sample - loss: 1920.3463 - val_loss: 2494.5511\n",
      "Epoch 325/500\n",
      "400/400 [==============================] - 0s 95us/sample - loss: 1916.6727 - val_loss: 2489.6917\n",
      "Epoch 326/500\n",
      "400/400 [==============================] - 0s 100us/sample - loss: 1912.9733 - val_loss: 2484.6310\n",
      "Epoch 327/500\n",
      "400/400 [==============================] - 0s 103us/sample - loss: 1909.2283 - val_loss: 2479.9111\n",
      "Epoch 328/500\n",
      "400/400 [==============================] - 0s 98us/sample - loss: 1905.6246 - val_loss: 2474.7894\n",
      "Epoch 329/500\n",
      "400/400 [==============================] - 0s 90us/sample - loss: 1901.9174 - val_loss: 2470.3720\n",
      "Epoch 330/500\n",
      "400/400 [==============================] - 0s 115us/sample - loss: 1898.6532 - val_loss: 2466.0904\n",
      "Epoch 331/500\n",
      "400/400 [==============================] - 0s 93us/sample - loss: 1894.7044 - val_loss: 2460.4146\n",
      "Epoch 332/500\n",
      "400/400 [==============================] - 0s 110us/sample - loss: 1890.5901 - val_loss: 2455.6635\n",
      "Epoch 333/500\n",
      "400/400 [==============================] - 0s 95us/sample - loss: 1886.7314 - val_loss: 2450.7064\n",
      "Epoch 334/500\n",
      "400/400 [==============================] - 0s 98us/sample - loss: 1883.0132 - val_loss: 2445.2691\n",
      "Epoch 335/500\n",
      "400/400 [==============================] - 0s 108us/sample - loss: 1879.1258 - val_loss: 2440.1282\n",
      "Epoch 336/500\n",
      "400/400 [==============================] - 0s 158us/sample - loss: 1875.4940 - val_loss: 2435.0673\n",
      "Epoch 337/500\n",
      "400/400 [==============================] - 0s 103us/sample - loss: 1871.4589 - val_loss: 2429.7605\n",
      "Epoch 338/500\n",
      "400/400 [==============================] - 0s 113us/sample - loss: 1867.7013 - val_loss: 2424.4898\n",
      "Epoch 339/500\n",
      "400/400 [==============================] - 0s 105us/sample - loss: 1863.6183 - val_loss: 2419.7865\n",
      "Epoch 340/500\n",
      "400/400 [==============================] - 0s 120us/sample - loss: 1859.8158 - val_loss: 2414.8904\n",
      "Epoch 341/500\n",
      "400/400 [==============================] - 0s 103us/sample - loss: 1855.8244 - val_loss: 2409.7465\n",
      "Epoch 342/500\n",
      "400/400 [==============================] - 0s 100us/sample - loss: 1852.0423 - val_loss: 2404.2027\n",
      "Epoch 343/500\n",
      "400/400 [==============================] - 0s 100us/sample - loss: 1848.1064 - val_loss: 2399.3015\n",
      "Epoch 344/500\n",
      "400/400 [==============================] - 0s 88us/sample - loss: 1844.1494 - val_loss: 2393.7240\n",
      "Epoch 345/500\n",
      "400/400 [==============================] - 0s 100us/sample - loss: 1840.5105 - val_loss: 2387.6547\n",
      "Epoch 346/500\n",
      "400/400 [==============================] - 0s 118us/sample - loss: 1836.0234 - val_loss: 2382.4490\n",
      "Epoch 347/500\n",
      "400/400 [==============================] - 0s 95us/sample - loss: 1832.1171 - val_loss: 2377.8919\n",
      "Epoch 348/500\n",
      "400/400 [==============================] - 0s 95us/sample - loss: 1828.6693 - val_loss: 2373.0778\n",
      "Epoch 349/500\n",
      "400/400 [==============================] - 0s 100us/sample - loss: 1823.9715 - val_loss: 2367.2304\n",
      "Epoch 350/500\n",
      "400/400 [==============================] - 0s 103us/sample - loss: 1820.0836 - val_loss: 2361.5455\n",
      "Epoch 351/500\n",
      "400/400 [==============================] - 0s 93us/sample - loss: 1816.6401 - val_loss: 2355.7179\n",
      "Epoch 352/500\n",
      "400/400 [==============================] - 0s 118us/sample - loss: 1811.9883 - val_loss: 2350.5177\n",
      "Epoch 353/500\n",
      "400/400 [==============================] - 0s 93us/sample - loss: 1807.9412 - val_loss: 2345.2049\n",
      "Epoch 354/500\n",
      "400/400 [==============================] - 0s 90us/sample - loss: 1803.8269 - val_loss: 2339.7983\n",
      "Epoch 355/500\n",
      "400/400 [==============================] - 0s 110us/sample - loss: 1800.5024 - val_loss: 2333.7587\n",
      "Epoch 356/500\n",
      "400/400 [==============================] - 0s 88us/sample - loss: 1795.7797 - val_loss: 2328.5553\n",
      "Epoch 357/500\n",
      "400/400 [==============================] - 0s 103us/sample - loss: 1792.0014 - val_loss: 2323.7239\n",
      "Epoch 358/500\n",
      "400/400 [==============================] - 0s 110us/sample - loss: 1787.4463 - val_loss: 2317.5959\n",
      "Epoch 359/500\n",
      "400/400 [==============================] - 0s 93us/sample - loss: 1783.2174 - val_loss: 2311.9801\n",
      "Epoch 360/500\n",
      "400/400 [==============================] - 0s 108us/sample - loss: 1779.0429 - val_loss: 2306.6159\n",
      "Epoch 361/500\n",
      "400/400 [==============================] - 0s 105us/sample - loss: 1774.8793 - val_loss: 2301.5535\n"
     ]
    },
    {
     "name": "stdout",
     "output_type": "stream",
     "text": [
      "Epoch 362/500\n",
      "400/400 [==============================] - 0s 98us/sample - loss: 1770.7068 - val_loss: 2296.1945\n",
      "Epoch 363/500\n",
      "400/400 [==============================] - 0s 95us/sample - loss: 1766.6408 - val_loss: 2291.1595\n",
      "Epoch 364/500\n",
      "400/400 [==============================] - 0s 123us/sample - loss: 1762.5532 - val_loss: 2285.4782\n",
      "Epoch 365/500\n",
      "400/400 [==============================] - 0s 85us/sample - loss: 1758.3799 - val_loss: 2279.7644\n",
      "Epoch 366/500\n",
      "400/400 [==============================] - 0s 83us/sample - loss: 1754.1285 - val_loss: 2274.6596\n",
      "Epoch 367/500\n",
      "400/400 [==============================] - 0s 93us/sample - loss: 1749.7797 - val_loss: 2268.3093\n",
      "Epoch 368/500\n",
      "400/400 [==============================] - 0s 88us/sample - loss: 1746.0989 - val_loss: 2263.0042\n",
      "Epoch 369/500\n",
      "400/400 [==============================] - 0s 93us/sample - loss: 1741.2720 - val_loss: 2256.6149\n",
      "Epoch 370/500\n",
      "400/400 [==============================] - 0s 153us/sample - loss: 1736.9817 - val_loss: 2251.4243\n",
      "Epoch 371/500\n",
      "400/400 [==============================] - 0s 95us/sample - loss: 1732.5638 - val_loss: 2244.9326\n",
      "Epoch 372/500\n",
      "400/400 [==============================] - 0s 93us/sample - loss: 1727.9691 - val_loss: 2239.2812\n",
      "Epoch 373/500\n",
      "400/400 [==============================] - 0s 95us/sample - loss: 1723.6100 - val_loss: 2233.4518\n",
      "Epoch 374/500\n",
      "400/400 [==============================] - 0s 105us/sample - loss: 1719.3444 - val_loss: 2227.7208\n",
      "Epoch 375/500\n",
      "400/400 [==============================] - 0s 85us/sample - loss: 1714.8781 - val_loss: 2222.2979\n",
      "Epoch 376/500\n",
      "400/400 [==============================] - 0s 123us/sample - loss: 1710.5319 - val_loss: 2216.6225\n",
      "Epoch 377/500\n",
      "400/400 [==============================] - 0s 90us/sample - loss: 1706.4634 - val_loss: 2211.0636\n",
      "Epoch 378/500\n",
      "400/400 [==============================] - 0s 88us/sample - loss: 1701.7880 - val_loss: 2205.3807\n",
      "Epoch 379/500\n",
      "400/400 [==============================] - 0s 98us/sample - loss: 1697.9497 - val_loss: 2198.9721\n",
      "Epoch 380/500\n",
      "400/400 [==============================] - 0s 85us/sample - loss: 1693.2726 - val_loss: 2194.1048\n",
      "Epoch 381/500\n",
      "400/400 [==============================] - 0s 93us/sample - loss: 1688.5921 - val_loss: 2187.9279\n",
      "Epoch 382/500\n",
      "400/400 [==============================] - 0s 95us/sample - loss: 1684.0780 - val_loss: 2181.9435\n",
      "Epoch 383/500\n",
      "400/400 [==============================] - 0s 133us/sample - loss: 1679.5012 - val_loss: 2176.0533\n",
      "Epoch 384/500\n",
      "400/400 [==============================] - 0s 118us/sample - loss: 1675.3920 - val_loss: 2169.8997\n",
      "Epoch 385/500\n",
      "400/400 [==============================] - 0s 93us/sample - loss: 1670.9261 - val_loss: 2164.5146\n",
      "Epoch 386/500\n",
      "400/400 [==============================] - 0s 78us/sample - loss: 1666.1505 - val_loss: 2158.3171\n",
      "Epoch 387/500\n",
      "400/400 [==============================] - 0s 75us/sample - loss: 1661.7698 - val_loss: 2152.5592\n",
      "Epoch 388/500\n",
      "400/400 [==============================] - 0s 108us/sample - loss: 1657.2792 - val_loss: 2146.1023\n",
      "Epoch 389/500\n",
      "400/400 [==============================] - 0s 95us/sample - loss: 1652.4823 - val_loss: 2139.9135\n",
      "Epoch 390/500\n",
      "400/400 [==============================] - 0s 93us/sample - loss: 1648.2414 - val_loss: 2133.5412\n",
      "Epoch 391/500\n",
      "400/400 [==============================] - 0s 80us/sample - loss: 1643.3492 - val_loss: 2126.8259\n",
      "Epoch 392/500\n",
      "400/400 [==============================] - 0s 70us/sample - loss: 1638.8467 - val_loss: 2120.6021\n",
      "Epoch 393/500\n",
      "400/400 [==============================] - 0s 63us/sample - loss: 1634.3516 - val_loss: 2114.3913\n",
      "Epoch 394/500\n",
      "400/400 [==============================] - 0s 85us/sample - loss: 1629.8921 - val_loss: 2108.0506\n",
      "Epoch 395/500\n",
      "400/400 [==============================] - 0s 98us/sample - loss: 1624.7867 - val_loss: 2102.4599\n",
      "Epoch 396/500\n",
      "400/400 [==============================] - 0s 98us/sample - loss: 1620.5697 - val_loss: 2096.5693\n",
      "Epoch 397/500\n",
      "400/400 [==============================] - 0s 554us/sample - loss: 1616.0415 - val_loss: 2090.5257\n",
      "Epoch 398/500\n",
      "400/400 [==============================] - 0s 486us/sample - loss: 1611.0820 - val_loss: 2084.6410\n",
      "Epoch 399/500\n",
      "400/400 [==============================] - 0s 410us/sample - loss: 1606.5919 - val_loss: 2078.6470\n",
      "Epoch 400/500\n",
      "400/400 [==============================] - 0s 597us/sample - loss: 1601.7769 - val_loss: 2072.3036\n",
      "Epoch 401/500\n",
      "400/400 [==============================] - 0s 470us/sample - loss: 1597.7308 - val_loss: 2065.4826\n",
      "Epoch 402/500\n",
      "400/400 [==============================] - 0s 387us/sample - loss: 1592.5745 - val_loss: 2059.6949\n",
      "Epoch 403/500\n",
      "400/400 [==============================] - 0s 422us/sample - loss: 1588.0922 - val_loss: 2053.2112\n",
      "Epoch 404/500\n",
      "400/400 [==============================] - 0s 382us/sample - loss: 1583.2319 - val_loss: 2047.2179\n",
      "Epoch 405/500\n",
      "400/400 [==============================] - 0s 489us/sample - loss: 1578.8067 - val_loss: 2041.4326\n",
      "Epoch 406/500\n",
      "400/400 [==============================] - 0s 403us/sample - loss: 1573.6729 - val_loss: 2034.7118\n",
      "Epoch 407/500\n",
      "400/400 [==============================] - 0s 433us/sample - loss: 1569.0288 - val_loss: 2028.2906\n",
      "Epoch 408/500\n",
      "400/400 [==============================] - 0s 534us/sample - loss: 1564.1927 - val_loss: 2022.2504\n",
      "Epoch 409/500\n",
      "400/400 [==============================] - 0s 416us/sample - loss: 1559.7699 - val_loss: 2016.2050\n",
      "Epoch 410/500\n",
      "400/400 [==============================] - 0s 465us/sample - loss: 1554.8528 - val_loss: 2010.2214\n",
      "Epoch 411/500\n",
      "400/400 [==============================] - 0s 440us/sample - loss: 1550.0307 - val_loss: 2003.4543\n",
      "Epoch 412/500\n",
      "400/400 [==============================] - 0s 453us/sample - loss: 1545.7324 - val_loss: 1996.4852\n",
      "Epoch 413/500\n",
      "400/400 [==============================] - 0s 503us/sample - loss: 1540.6857 - val_loss: 1990.4281\n",
      "Epoch 414/500\n",
      "400/400 [==============================] - 0s 375us/sample - loss: 1536.4058 - val_loss: 1983.4888\n",
      "Epoch 415/500\n",
      "400/400 [==============================] - 0s 425us/sample - loss: 1531.6983 - val_loss: 1978.1344\n",
      "Epoch 416/500\n",
      "400/400 [==============================] - 0s 468us/sample - loss: 1526.2286 - val_loss: 1971.2289\n",
      "Epoch 417/500\n",
      "400/400 [==============================] - 0s 375us/sample - loss: 1521.5260 - val_loss: 1964.4563\n",
      "Epoch 418/500\n",
      "400/400 [==============================] - 0s 430us/sample - loss: 1516.7144 - val_loss: 1958.0151\n",
      "Epoch 419/500\n",
      "400/400 [==============================] - 0s 415us/sample - loss: 1511.6974 - val_loss: 1952.1161\n",
      "Epoch 420/500\n",
      "400/400 [==============================] - 0s 390us/sample - loss: 1506.8894 - val_loss: 1946.0614\n",
      "Epoch 421/500\n",
      "400/400 [==============================] - 0s 363us/sample - loss: 1501.9494 - val_loss: 1939.6762\n",
      "Epoch 422/500\n",
      "400/400 [==============================] - 0s 405us/sample - loss: 1496.7927 - val_loss: 1932.8480\n",
      "Epoch 423/500\n",
      "400/400 [==============================] - 0s 323us/sample - loss: 1492.0841 - val_loss: 1926.4618\n",
      "Epoch 424/500\n",
      "400/400 [==============================] - 0s 378us/sample - loss: 1487.1441 - val_loss: 1920.0474\n",
      "Epoch 425/500\n",
      "400/400 [==============================] - 0s 353us/sample - loss: 1482.3430 - val_loss: 1913.9883\n",
      "Epoch 426/500\n",
      "400/400 [==============================] - 0s 400us/sample - loss: 1477.1643 - val_loss: 1907.2955\n",
      "Epoch 427/500\n",
      "400/400 [==============================] - 0s 310us/sample - loss: 1473.1320 - val_loss: 1901.2429\n",
      "Epoch 428/500\n",
      "400/400 [==============================] - 0s 353us/sample - loss: 1467.4575 - val_loss: 1894.2160\n",
      "Epoch 429/500\n",
      "400/400 [==============================] - 0s 310us/sample - loss: 1462.6157 - val_loss: 1887.8653\n",
      "Epoch 430/500\n",
      "400/400 [==============================] - 0s 325us/sample - loss: 1457.9949 - val_loss: 1880.4596\n",
      "Epoch 431/500\n",
      "400/400 [==============================] - 0s 330us/sample - loss: 1452.7457 - val_loss: 1874.4208\n",
      "Epoch 432/500\n",
      "400/400 [==============================] - 0s 340us/sample - loss: 1448.2543 - val_loss: 1867.1579\n",
      "Epoch 433/500\n",
      "400/400 [==============================] - 0s 338us/sample - loss: 1442.5334 - val_loss: 1860.6771\n",
      "Epoch 434/500\n",
      "400/400 [==============================] - 0s 375us/sample - loss: 1437.3664 - val_loss: 1854.6194\n"
     ]
    },
    {
     "name": "stdout",
     "output_type": "stream",
     "text": [
      "Epoch 435/500\n",
      "400/400 [==============================] - 0s 330us/sample - loss: 1432.4521 - val_loss: 1848.3278\n",
      "Epoch 436/500\n",
      "400/400 [==============================] - 0s 310us/sample - loss: 1427.5121 - val_loss: 1841.4393\n",
      "Epoch 437/500\n",
      "400/400 [==============================] - 0s 335us/sample - loss: 1422.7054 - val_loss: 1834.4663\n",
      "Epoch 438/500\n",
      "400/400 [==============================] - 0s 340us/sample - loss: 1417.4499 - val_loss: 1828.9173\n",
      "Epoch 439/500\n",
      "400/400 [==============================] - 0s 295us/sample - loss: 1412.1738 - val_loss: 1821.7202\n",
      "Epoch 440/500\n",
      "400/400 [==============================] - 0s 330us/sample - loss: 1407.0779 - val_loss: 1814.9127\n",
      "Epoch 441/500\n",
      "400/400 [==============================] - 0s 313us/sample - loss: 1402.0406 - val_loss: 1808.2839\n",
      "Epoch 442/500\n",
      "400/400 [==============================] - 0s 338us/sample - loss: 1397.1728 - val_loss: 1801.4867\n",
      "Epoch 443/500\n",
      "400/400 [==============================] - 0s 383us/sample - loss: 1392.1305 - val_loss: 1794.3970\n",
      "Epoch 444/500\n",
      "400/400 [==============================] - 0s 310us/sample - loss: 1386.8255 - val_loss: 1788.0068\n",
      "Epoch 445/500\n",
      "400/400 [==============================] - 0s 315us/sample - loss: 1381.9162 - val_loss: 1781.8009\n",
      "Epoch 446/500\n",
      "400/400 [==============================] - 0s 383us/sample - loss: 1376.9021 - val_loss: 1775.1403\n",
      "Epoch 447/500\n",
      "400/400 [==============================] - 0s 375us/sample - loss: 1371.8213 - val_loss: 1767.9122\n",
      "Epoch 448/500\n",
      "400/400 [==============================] - 0s 343us/sample - loss: 1366.6592 - val_loss: 1761.3074\n",
      "Epoch 449/500\n",
      "400/400 [==============================] - 0s 363us/sample - loss: 1361.7561 - val_loss: 1754.4866\n",
      "Epoch 450/500\n",
      "400/400 [==============================] - 0s 358us/sample - loss: 1356.4165 - val_loss: 1747.8549\n",
      "Epoch 451/500\n",
      "400/400 [==============================] - 0s 378us/sample - loss: 1351.4886 - val_loss: 1741.1020\n",
      "Epoch 452/500\n",
      "400/400 [==============================] - 0s 328us/sample - loss: 1346.5449 - val_loss: 1734.6106\n",
      "Epoch 453/500\n",
      "400/400 [==============================] - 0s 355us/sample - loss: 1341.2918 - val_loss: 1727.8416\n",
      "Epoch 454/500\n",
      "400/400 [==============================] - 0s 353us/sample - loss: 1336.3273 - val_loss: 1720.9190\n",
      "Epoch 455/500\n",
      "400/400 [==============================] - 0s 328us/sample - loss: 1331.1220 - val_loss: 1714.0978\n",
      "Epoch 456/500\n",
      "400/400 [==============================] - 0s 350us/sample - loss: 1325.9082 - val_loss: 1707.7551\n",
      "Epoch 457/500\n",
      "400/400 [==============================] - 0s 393us/sample - loss: 1320.8590 - val_loss: 1700.9386\n",
      "Epoch 458/500\n",
      "400/400 [==============================] - 0s 463us/sample - loss: 1315.8272 - val_loss: 1694.0890\n",
      "Epoch 459/500\n",
      "400/400 [==============================] - 0s 669us/sample - loss: 1310.7161 - val_loss: 1687.6508\n",
      "Epoch 460/500\n",
      "400/400 [==============================] - 0s 463us/sample - loss: 1305.6680 - val_loss: 1681.3385\n",
      "Epoch 461/500\n",
      "400/400 [==============================] - 0s 473us/sample - loss: 1301.0702 - val_loss: 1675.3158\n",
      "Epoch 462/500\n",
      "400/400 [==============================] - 0s 475us/sample - loss: 1295.2142 - val_loss: 1667.8951\n",
      "Epoch 463/500\n",
      "400/400 [==============================] - 0s 415us/sample - loss: 1290.1487 - val_loss: 1660.6126\n",
      "Epoch 464/500\n",
      "400/400 [==============================] - 0s 423us/sample - loss: 1285.5368 - val_loss: 1653.2263\n",
      "Epoch 465/500\n",
      "400/400 [==============================] - 0s 510us/sample - loss: 1279.6767 - val_loss: 1646.9486\n",
      "Epoch 466/500\n",
      "400/400 [==============================] - 0s 543us/sample - loss: 1274.5580 - val_loss: 1640.4808\n",
      "Epoch 467/500\n",
      "400/400 [==============================] - 0s 430us/sample - loss: 1269.3328 - val_loss: 1633.6119\n",
      "Epoch 468/500\n",
      "400/400 [==============================] - 0s 363us/sample - loss: 1264.3839 - val_loss: 1626.3218\n",
      "Epoch 469/500\n",
      "400/400 [==============================] - 0s 425us/sample - loss: 1259.2747 - val_loss: 1618.4432\n",
      "Epoch 470/500\n",
      "400/400 [==============================] - 0s 553us/sample - loss: 1253.6807 - val_loss: 1611.8127\n",
      "Epoch 471/500\n",
      "400/400 [==============================] - 0s 423us/sample - loss: 1248.3708 - val_loss: 1605.3359\n",
      "Epoch 472/500\n",
      "400/400 [==============================] - 0s 485us/sample - loss: 1243.5183 - val_loss: 1598.3621\n",
      "Epoch 473/500\n",
      "400/400 [==============================] - 0s 433us/sample - loss: 1238.0498 - val_loss: 1591.6899\n",
      "Epoch 474/500\n",
      "400/400 [==============================] - 0s 415us/sample - loss: 1233.0709 - val_loss: 1585.0952\n",
      "Epoch 475/500\n",
      "400/400 [==============================] - 0s 563us/sample - loss: 1227.7898 - val_loss: 1578.4171\n",
      "Epoch 476/500\n",
      "400/400 [==============================] - 0s 378us/sample - loss: 1222.7738 - val_loss: 1570.6327\n",
      "Epoch 477/500\n",
      "400/400 [==============================] - 0s 383us/sample - loss: 1217.1722 - val_loss: 1564.2058\n",
      "Epoch 478/500\n",
      "400/400 [==============================] - 0s 395us/sample - loss: 1212.0091 - val_loss: 1556.9066\n",
      "Epoch 479/500\n",
      "400/400 [==============================] - 0s 348us/sample - loss: 1206.7814 - val_loss: 1550.3333\n",
      "Epoch 480/500\n",
      "400/400 [==============================] - 0s 325us/sample - loss: 1201.4007 - val_loss: 1543.3558\n",
      "Epoch 481/500\n",
      "400/400 [==============================] - 0s 348us/sample - loss: 1196.5290 - val_loss: 1536.5448\n",
      "Epoch 482/500\n",
      "400/400 [==============================] - 0s 363us/sample - loss: 1191.1060 - val_loss: 1529.3385\n",
      "Epoch 483/500\n",
      "400/400 [==============================] - 0s 338us/sample - loss: 1186.0030 - val_loss: 1522.1534\n",
      "Epoch 484/500\n",
      "400/400 [==============================] - 0s 358us/sample - loss: 1180.6831 - val_loss: 1515.9512\n",
      "Epoch 485/500\n",
      "400/400 [==============================] - 0s 338us/sample - loss: 1175.3880 - val_loss: 1508.8460\n",
      "Epoch 486/500\n",
      "400/400 [==============================] - 0s 340us/sample - loss: 1170.5091 - val_loss: 1501.4135\n",
      "Epoch 487/500\n",
      "400/400 [==============================] - 0s 348us/sample - loss: 1164.7679 - val_loss: 1494.9750\n",
      "Epoch 488/500\n",
      "400/400 [==============================] - 0s 338us/sample - loss: 1160.0443 - val_loss: 1488.5694\n",
      "Epoch 489/500\n",
      "400/400 [==============================] - 0s 340us/sample - loss: 1154.5396 - val_loss: 1481.2716\n",
      "Epoch 490/500\n",
      "400/400 [==============================] - 0s 348us/sample - loss: 1149.4753 - val_loss: 1474.4000\n",
      "Epoch 491/500\n",
      "400/400 [==============================] - 0s 333us/sample - loss: 1144.1612 - val_loss: 1467.0190\n",
      "Epoch 492/500\n",
      "400/400 [==============================] - 0s 335us/sample - loss: 1138.9551 - val_loss: 1461.1031\n",
      "Epoch 493/500\n",
      "400/400 [==============================] - 0s 328us/sample - loss: 1133.3461 - val_loss: 1454.0505\n",
      "Epoch 494/500\n",
      "400/400 [==============================] - 0s 423us/sample - loss: 1128.3092 - val_loss: 1447.0305\n",
      "Epoch 495/500\n",
      "400/400 [==============================] - 0s 380us/sample - loss: 1123.1537 - val_loss: 1439.7812\n",
      "Epoch 496/500\n",
      "400/400 [==============================] - 0s 328us/sample - loss: 1118.1216 - val_loss: 1433.3974\n",
      "Epoch 497/500\n",
      "400/400 [==============================] - 0s 360us/sample - loss: 1112.6870 - val_loss: 1426.6515\n",
      "Epoch 498/500\n",
      "400/400 [==============================] - 0s 353us/sample - loss: 1107.2019 - val_loss: 1419.3179\n",
      "Epoch 499/500\n",
      "400/400 [==============================] - 0s 325us/sample - loss: 1101.8977 - val_loss: 1412.0349\n",
      "Epoch 500/500\n",
      "400/400 [==============================] - 0s 330us/sample - loss: 1096.7971 - val_loss: 1404.5824\n"
     ]
    },
    {
     "data": {
      "text/plain": [
       "<tensorflow.python.keras.callbacks.History at 0xfda94094c8>"
      ]
     },
     "execution_count": 117,
     "metadata": {},
     "output_type": "execute_result"
    }
   ],
   "source": [
    "model.fit(x= X_train,y = y_train, validation_data=(X_test,y_test),epochs=500)"
   ]
  },
  {
   "cell_type": "markdown",
   "metadata": {},
   "source": [
    "MODEL EVALUATION"
   ]
  },
  {
   "cell_type": "code",
   "execution_count": 118,
   "metadata": {},
   "outputs": [],
   "source": [
    "losses = pd.DataFrame(model.history.history)"
   ]
  },
  {
   "cell_type": "markdown",
   "metadata": {},
   "source": [
    "right"
   ]
  },
  {
   "cell_type": "code",
   "execution_count": 119,
   "metadata": {},
   "outputs": [
    {
     "data": {
      "text/plain": [
       "<matplotlib.axes._subplots.AxesSubplot at 0xfda9bcf448>"
      ]
     },
     "execution_count": 119,
     "metadata": {},
     "output_type": "execute_result"
    },
    {
     "data": {
      "image/png": "[encoded data removed]",
      "text/plain": [
       "<Figure size 432x288 with 1 Axes>"
      ]
     },
     "metadata": {},
     "output_type": "display_data"
    }
   ],
   "source": [
    "losses.plot()"
   ]
  },
  {
   "cell_type": "code",
   "execution_count": 120,
   "metadata": {},
   "outputs": [],
   "source": [
    "from sklearn.metrics import mean_absolute_error, mean_squared_error, explained_variance_score"
   ]
  },
  {
   "cell_type": "code",
   "execution_count": 121,
   "metadata": {},
   "outputs": [],
   "source": [
    "predict = model.predict(X_test)"
   ]
  },
  {
   "cell_type": "code",
   "execution_count": 122,
   "metadata": {},
   "outputs": [
    {
     "data": {
      "text/plain": [
       "28.827533894415637"
      ]
     },
     "execution_count": 122,
     "metadata": {},
     "output_type": "execute_result"
    }
   ],
   "source": [
    "mean_absolute_error(y_test,predict)"
   ]
  },
  {
   "cell_type": "code",
   "execution_count": 123,
   "metadata": {},
   "outputs": [
    {
     "data": {
      "text/plain": [
       "1404.5825718922665"
      ]
     },
     "execution_count": 123,
     "metadata": {},
     "output_type": "execute_result"
    }
   ],
   "source": [
    "mean_squared_error(y_test, predict)"
   ]
  },
  {
   "cell_type": "code",
   "execution_count": 124,
   "metadata": {},
   "outputs": [
    {
     "data": {
      "text/plain": [
       "37.477761030940286"
      ]
     },
     "execution_count": 124,
     "metadata": {},
     "output_type": "execute_result"
    }
   ],
   "source": [
    "np.sqrt(mean_squared_error(y_test, predict))"
   ]
  },
  {
   "cell_type": "code",
   "execution_count": 125,
   "metadata": {},
   "outputs": [
    {
     "data": {
      "text/plain": [
       "count    500.000000\n",
       "mean     499.314038\n",
       "std       79.314782\n",
       "min      256.670582\n",
       "25%      445.038277\n",
       "50%      498.887875\n",
       "75%      549.313828\n",
       "max      765.518462\n",
       "Name: Yearly Amount Spent, dtype: float64"
      ]
     },
     "execution_count": 125,
     "metadata": {},
     "output_type": "execute_result"
    }
   ],
   "source": [
    "df['Yearly Amount Spent'].describe()"
   ]
  },
  {
   "cell_type": "code",
   "execution_count": 126,
   "metadata": {},
   "outputs": [
    {
     "data": {
      "text/plain": [
       "0.8190375204192721"
      ]
     },
     "execution_count": 126,
     "metadata": {},
     "output_type": "execute_result"
    }
   ],
   "source": [
    "explained_variance_score(y_test, predict)"
   ]
  },
  {
   "cell_type": "code",
   "execution_count": 127,
   "metadata": {},
   "outputs": [
    {
     "data": {
      "text/plain": [
       "Text(0, 0.5, 'Predicted Yearly amount spent')"
      ]
     },
     "execution_count": 127,
     "metadata": {},
     "output_type": "execute_result"
    },
    {
     "data": {
      "image/png": "[encoded data removed]",
      "text/plain": [
       "<Figure size 720x504 with 1 Axes>"
      ]
     },
     "metadata": {},
     "output_type": "display_data"
    }
   ],
   "source": [
    "plt.figure(figsize=(10,7))\n",
    "plt.scatter(y_test,predict,marker='v')\n",
    "plt.xlabel('Actual Yearly amount spent')\n",
    "plt.ylabel('Predicted Yearly amount spent')"
   ]
  },
  {
   "cell_type": "code",
   "execution_count": 128,
   "metadata": {},
   "outputs": [],
   "source": [
    "model.save('Annual amount spent by customer.h5')"
   ]
  }
 ],
 "metadata": {
  "kernelspec": {
   "display_name": "Python 3",
   "language": "python",
   "name": "python3"
  },
  "language_info": {
   "codemirror_mode": {
    "name": "ipython",
    "version": 3
   },
   "file_extension": ".py",
   "mimetype": "text/x-python",
   "name": "python",
   "nbconvert_exporter": "python",
   "pygments_lexer": "ipython3",
   "version": "3.7.4"
  }
 },
 "nbformat": 4,
 "nbformat_minor": 2
}
